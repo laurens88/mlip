{
 "cells": [
  {
   "cell_type": "markdown",
   "id": "a2ca6f2c",
   "metadata": {
    "papermill": {
     "duration": 0.024159,
     "end_time": "2023-05-22T11:03:00.529016",
     "exception": false,
     "start_time": "2023-05-22T11:03:00.504857",
     "status": "completed"
    },
    "tags": []
   },
   "source": [
    "# Introduction\n",
    "\n",
    "The goal of this competition is to **detect freezing of gait (FOG)**, a debilitating symptom that afflicts many people **with Parkinson’s disease**. It is requred to **develop a machine learning model trained on data collected from a wearable 3D lower back sensor** to better understand **when and why FOG episodes occur**."
   ]
  },
  {
   "cell_type": "markdown",
   "id": "4a25e9dc",
   "metadata": {
    "papermill": {
     "duration": 0.023229,
     "end_time": "2023-05-22T11:03:00.576219",
     "exception": false,
     "start_time": "2023-05-22T11:03:00.552990",
     "status": "completed"
    },
    "tags": []
   },
   "source": [
    "# Import Libraries"
   ]
  },
  {
   "cell_type": "code",
   "execution_count": 1,
   "id": "6d207c14",
   "metadata": {
    "execution": {
     "iopub.execute_input": "2023-05-22T11:03:00.626083Z",
     "iopub.status.busy": "2023-05-22T11:03:00.624731Z",
     "iopub.status.idle": "2023-05-22T11:03:03.145986Z",
     "shell.execute_reply": "2023-05-22T11:03:03.144435Z"
    },
    "papermill": {
     "duration": 2.549481,
     "end_time": "2023-05-22T11:03:03.149158",
     "exception": false,
     "start_time": "2023-05-22T11:03:00.599677",
     "status": "completed"
    },
    "tags": []
   },
   "outputs": [
    {
     "name": "stderr",
     "output_type": "stream",
     "text": [
      "/opt/conda/lib/python3.10/site-packages/scipy/__init__.py:146: UserWarning: A NumPy version >=1.16.5 and <1.23.0 is required for this version of SciPy (detected version 1.23.5\n",
      "  warnings.warn(f\"A NumPy version >={np_minversion} and <{np_maxversion}\"\n"
     ]
    }
   ],
   "source": [
    "import numpy as np\n",
    "import pandas as pd\n",
    "import matplotlib.pyplot as plt\n",
    "import seaborn as sns\n",
    "import os\n",
    "from imblearn.over_sampling import SMOTE"
   ]
  },
  {
   "cell_type": "markdown",
   "id": "538c5404",
   "metadata": {
    "papermill": {
     "duration": 0.023477,
     "end_time": "2023-05-22T11:03:03.197400",
     "exception": false,
     "start_time": "2023-05-22T11:03:03.173923",
     "status": "completed"
    },
    "tags": []
   },
   "source": [
    "# Read CSV Files\n",
    "\n",
    "The train dataset is made up of the defog, notype, and tdcsfog folders. **The tdcsfog folder includes** more than 800 csv files and accounts for **the majority of the information contained in the whole dataset for this competition**. Moreover, csv files in the edcsfog folder include annotation: StartHesitation, Turn, and Walking."
   ]
  },
  {
   "cell_type": "code",
   "execution_count": 2,
   "id": "6180efc5",
   "metadata": {
    "execution": {
     "iopub.execute_input": "2023-05-22T11:03:03.246393Z",
     "iopub.status.busy": "2023-05-22T11:03:03.245857Z",
     "iopub.status.idle": "2023-05-22T11:03:03.327102Z",
     "shell.execute_reply": "2023-05-22T11:03:03.325449Z"
    },
    "papermill": {
     "duration": 0.109866,
     "end_time": "2023-05-22T11:03:03.330620",
     "exception": false,
     "start_time": "2023-05-22T11:03:03.220754",
     "status": "completed"
    },
    "tags": []
   },
   "outputs": [
    {
     "data": {
      "text/html": [
       "<div>\n",
       "<style scoped>\n",
       "    .dataframe tbody tr th:only-of-type {\n",
       "        vertical-align: middle;\n",
       "    }\n",
       "\n",
       "    .dataframe tbody tr th {\n",
       "        vertical-align: top;\n",
       "    }\n",
       "\n",
       "    .dataframe thead th {\n",
       "        text-align: right;\n",
       "    }\n",
       "</style>\n",
       "<table border=\"1\" class=\"dataframe\">\n",
       "  <thead>\n",
       "    <tr style=\"text-align: right;\">\n",
       "      <th></th>\n",
       "      <th>Time</th>\n",
       "      <th>AccV</th>\n",
       "      <th>AccML</th>\n",
       "      <th>AccAP</th>\n",
       "      <th>StartHesitation</th>\n",
       "      <th>Turn</th>\n",
       "      <th>Walking</th>\n",
       "    </tr>\n",
       "  </thead>\n",
       "  <tbody>\n",
       "    <tr>\n",
       "      <th>0</th>\n",
       "      <td>0</td>\n",
       "      <td>-9.533939</td>\n",
       "      <td>0.566322</td>\n",
       "      <td>-1.413525</td>\n",
       "      <td>0</td>\n",
       "      <td>0</td>\n",
       "      <td>0</td>\n",
       "    </tr>\n",
       "    <tr>\n",
       "      <th>1</th>\n",
       "      <td>1</td>\n",
       "      <td>-9.536140</td>\n",
       "      <td>0.564137</td>\n",
       "      <td>-1.440621</td>\n",
       "      <td>0</td>\n",
       "      <td>0</td>\n",
       "      <td>0</td>\n",
       "    </tr>\n",
       "    <tr>\n",
       "      <th>2</th>\n",
       "      <td>2</td>\n",
       "      <td>-9.529345</td>\n",
       "      <td>0.561765</td>\n",
       "      <td>-1.429332</td>\n",
       "      <td>0</td>\n",
       "      <td>0</td>\n",
       "      <td>0</td>\n",
       "    </tr>\n",
       "    <tr>\n",
       "      <th>3</th>\n",
       "      <td>3</td>\n",
       "      <td>-9.531239</td>\n",
       "      <td>0.564227</td>\n",
       "      <td>-1.415490</td>\n",
       "      <td>0</td>\n",
       "      <td>0</td>\n",
       "      <td>0</td>\n",
       "    </tr>\n",
       "    <tr>\n",
       "      <th>4</th>\n",
       "      <td>4</td>\n",
       "      <td>-9.540825</td>\n",
       "      <td>0.561854</td>\n",
       "      <td>-1.429471</td>\n",
       "      <td>0</td>\n",
       "      <td>0</td>\n",
       "      <td>0</td>\n",
       "    </tr>\n",
       "  </tbody>\n",
       "</table>\n",
       "</div>"
      ],
      "text/plain": [
       "   Time      AccV     AccML     AccAP  StartHesitation  Turn  Walking\n",
       "0     0 -9.533939  0.566322 -1.413525                0     0        0\n",
       "1     1 -9.536140  0.564137 -1.440621                0     0        0\n",
       "2     2 -9.529345  0.561765 -1.429332                0     0        0\n",
       "3     3 -9.531239  0.564227 -1.415490                0     0        0\n",
       "4     4 -9.540825  0.561854 -1.429471                0     0        0"
      ]
     },
     "execution_count": 2,
     "metadata": {},
     "output_type": "execute_result"
    }
   ],
   "source": [
    "# one tdcsfog file\n",
    "tdcsfog_003f117e14 = pd.read_csv('/kaggle/input/tlvmc-parkinsons-freezing-gait-prediction/train/tdcsfog/003f117e14.csv')\n",
    "tdcsfog_003f117e14.head(5)"
   ]
  },
  {
   "cell_type": "code",
   "execution_count": 3,
   "id": "db732c13",
   "metadata": {
    "execution": {
     "iopub.execute_input": "2023-05-22T11:03:03.381881Z",
     "iopub.status.busy": "2023-05-22T11:03:03.381481Z",
     "iopub.status.idle": "2023-05-22T11:03:03.399282Z",
     "shell.execute_reply": "2023-05-22T11:03:03.397831Z"
    },
    "papermill": {
     "duration": 0.046456,
     "end_time": "2023-05-22T11:03:03.402330",
     "exception": false,
     "start_time": "2023-05-22T11:03:03.355874",
     "status": "completed"
    },
    "tags": []
   },
   "outputs": [
    {
     "data": {
      "text/html": [
       "<div>\n",
       "<style scoped>\n",
       "    .dataframe tbody tr th:only-of-type {\n",
       "        vertical-align: middle;\n",
       "    }\n",
       "\n",
       "    .dataframe tbody tr th {\n",
       "        vertical-align: top;\n",
       "    }\n",
       "\n",
       "    .dataframe thead th {\n",
       "        text-align: right;\n",
       "    }\n",
       "</style>\n",
       "<table border=\"1\" class=\"dataframe\">\n",
       "  <thead>\n",
       "    <tr style=\"text-align: right;\">\n",
       "      <th></th>\n",
       "      <th>Time</th>\n",
       "      <th>AccV</th>\n",
       "      <th>AccML</th>\n",
       "      <th>AccAP</th>\n",
       "      <th>StartHesitation</th>\n",
       "      <th>Turn</th>\n",
       "      <th>Walking</th>\n",
       "    </tr>\n",
       "  </thead>\n",
       "  <tbody>\n",
       "    <tr>\n",
       "      <th>4677</th>\n",
       "      <td>4677</td>\n",
       "      <td>-9.351431</td>\n",
       "      <td>0.370047</td>\n",
       "      <td>-2.286318</td>\n",
       "      <td>0</td>\n",
       "      <td>0</td>\n",
       "      <td>0</td>\n",
       "    </tr>\n",
       "    <tr>\n",
       "      <th>4678</th>\n",
       "      <td>4678</td>\n",
       "      <td>-9.341410</td>\n",
       "      <td>0.347721</td>\n",
       "      <td>-2.321991</td>\n",
       "      <td>0</td>\n",
       "      <td>0</td>\n",
       "      <td>0</td>\n",
       "    </tr>\n",
       "    <tr>\n",
       "      <th>4679</th>\n",
       "      <td>4679</td>\n",
       "      <td>-9.350667</td>\n",
       "      <td>0.361341</td>\n",
       "      <td>-2.297158</td>\n",
       "      <td>0</td>\n",
       "      <td>0</td>\n",
       "      <td>0</td>\n",
       "    </tr>\n",
       "    <tr>\n",
       "      <th>4680</th>\n",
       "      <td>4680</td>\n",
       "      <td>-9.343977</td>\n",
       "      <td>0.365726</td>\n",
       "      <td>-2.292650</td>\n",
       "      <td>0</td>\n",
       "      <td>0</td>\n",
       "      <td>0</td>\n",
       "    </tr>\n",
       "    <tr>\n",
       "      <th>4681</th>\n",
       "      <td>4681</td>\n",
       "      <td>-9.348477</td>\n",
       "      <td>0.379439</td>\n",
       "      <td>-2.335422</td>\n",
       "      <td>0</td>\n",
       "      <td>0</td>\n",
       "      <td>0</td>\n",
       "    </tr>\n",
       "  </tbody>\n",
       "</table>\n",
       "</div>"
      ],
      "text/plain": [
       "      Time      AccV     AccML     AccAP  StartHesitation  Turn  Walking\n",
       "4677  4677 -9.351431  0.370047 -2.286318                0     0        0\n",
       "4678  4678 -9.341410  0.347721 -2.321991                0     0        0\n",
       "4679  4679 -9.350667  0.361341 -2.297158                0     0        0\n",
       "4680  4680 -9.343977  0.365726 -2.292650                0     0        0\n",
       "4681  4681 -9.348477  0.379439 -2.335422                0     0        0"
      ]
     },
     "execution_count": 3,
     "metadata": {},
     "output_type": "execute_result"
    }
   ],
   "source": [
    "tdcsfog_003f117e14.tail(5)"
   ]
  },
  {
   "cell_type": "markdown",
   "id": "1b3ce2da",
   "metadata": {
    "papermill": {
     "duration": 0.023666,
     "end_time": "2023-05-22T11:03:03.450599",
     "exception": false,
     "start_time": "2023-05-22T11:03:03.426933",
     "status": "completed"
    },
    "tags": []
   },
   "source": [
    "This looks like a table of motion sensor data, possibly from a wearable device, with each row representing a particular moment in time (as indicated by the \"Time\" column) and containing measurements of acceleration in three dimensions (**\"AccV\", \"AccML\", \"AccAP\"**). **The values in these columns indicate the acceleration of the device along the vertical, medial-lateral, and anterior-posterior axes, respectively.**\n",
    "\n",
    "**The \"StartHesitation\", \"Turn\", and \"Walking\" columns appear to be binary variables indicating whether or not the corresponding activity is taking place at a given moment in time.** However, in this table, all values in these columns are 0, so it is not possible to predict the status of these variables based on the data in this table alone."
   ]
  },
  {
   "cell_type": "code",
   "execution_count": 4,
   "id": "a479d470",
   "metadata": {
    "execution": {
     "iopub.execute_input": "2023-05-22T11:03:03.502110Z",
     "iopub.status.busy": "2023-05-22T11:03:03.501669Z",
     "iopub.status.idle": "2023-05-22T11:03:03.553828Z",
     "shell.execute_reply": "2023-05-22T11:03:03.552387Z"
    },
    "papermill": {
     "duration": 0.081741,
     "end_time": "2023-05-22T11:03:03.557258",
     "exception": false,
     "start_time": "2023-05-22T11:03:03.475517",
     "status": "completed"
    },
    "tags": []
   },
   "outputs": [
    {
     "data": {
      "text/html": [
       "<div>\n",
       "<style scoped>\n",
       "    .dataframe tbody tr th:only-of-type {\n",
       "        vertical-align: middle;\n",
       "    }\n",
       "\n",
       "    .dataframe tbody tr th {\n",
       "        vertical-align: top;\n",
       "    }\n",
       "\n",
       "    .dataframe thead th {\n",
       "        text-align: right;\n",
       "    }\n",
       "</style>\n",
       "<table border=\"1\" class=\"dataframe\">\n",
       "  <thead>\n",
       "    <tr style=\"text-align: right;\">\n",
       "      <th></th>\n",
       "      <th>Time</th>\n",
       "      <th>AccV</th>\n",
       "      <th>AccML</th>\n",
       "      <th>AccAP</th>\n",
       "      <th>StartHesitation</th>\n",
       "      <th>Turn</th>\n",
       "      <th>Walking</th>\n",
       "    </tr>\n",
       "  </thead>\n",
       "  <tbody>\n",
       "    <tr>\n",
       "      <th>count</th>\n",
       "      <td>4682.00000</td>\n",
       "      <td>4682.000000</td>\n",
       "      <td>4682.000000</td>\n",
       "      <td>4682.000000</td>\n",
       "      <td>4682.0</td>\n",
       "      <td>4682.000000</td>\n",
       "      <td>4682.0</td>\n",
       "    </tr>\n",
       "    <tr>\n",
       "      <th>mean</th>\n",
       "      <td>2340.50000</td>\n",
       "      <td>-9.151214</td>\n",
       "      <td>0.753518</td>\n",
       "      <td>2.471637</td>\n",
       "      <td>0.0</td>\n",
       "      <td>0.168304</td>\n",
       "      <td>0.0</td>\n",
       "    </tr>\n",
       "    <tr>\n",
       "      <th>std</th>\n",
       "      <td>1351.72131</td>\n",
       "      <td>1.384390</td>\n",
       "      <td>1.102125</td>\n",
       "      <td>2.239906</td>\n",
       "      <td>0.0</td>\n",
       "      <td>0.374176</td>\n",
       "      <td>0.0</td>\n",
       "    </tr>\n",
       "    <tr>\n",
       "      <th>min</th>\n",
       "      <td>0.00000</td>\n",
       "      <td>-23.796051</td>\n",
       "      <td>-9.097370</td>\n",
       "      <td>-7.353417</td>\n",
       "      <td>0.0</td>\n",
       "      <td>0.000000</td>\n",
       "      <td>0.0</td>\n",
       "    </tr>\n",
       "    <tr>\n",
       "      <th>25%</th>\n",
       "      <td>1170.25000</td>\n",
       "      <td>-9.537719</td>\n",
       "      <td>0.322877</td>\n",
       "      <td>1.966646</td>\n",
       "      <td>0.0</td>\n",
       "      <td>0.000000</td>\n",
       "      <td>0.0</td>\n",
       "    </tr>\n",
       "    <tr>\n",
       "      <th>50%</th>\n",
       "      <td>2340.50000</td>\n",
       "      <td>-9.234702</td>\n",
       "      <td>0.580891</td>\n",
       "      <td>3.137857</td>\n",
       "      <td>0.0</td>\n",
       "      <td>0.000000</td>\n",
       "      <td>0.0</td>\n",
       "    </tr>\n",
       "    <tr>\n",
       "      <th>75%</th>\n",
       "      <td>3510.75000</td>\n",
       "      <td>-8.470460</td>\n",
       "      <td>1.368355</td>\n",
       "      <td>3.819931</td>\n",
       "      <td>0.0</td>\n",
       "      <td>0.000000</td>\n",
       "      <td>0.0</td>\n",
       "    </tr>\n",
       "    <tr>\n",
       "      <th>max</th>\n",
       "      <td>4681.00000</td>\n",
       "      <td>-3.915590</td>\n",
       "      <td>5.996704</td>\n",
       "      <td>10.281080</td>\n",
       "      <td>0.0</td>\n",
       "      <td>1.000000</td>\n",
       "      <td>0.0</td>\n",
       "    </tr>\n",
       "  </tbody>\n",
       "</table>\n",
       "</div>"
      ],
      "text/plain": [
       "             Time         AccV        AccML        AccAP  StartHesitation  \\\n",
       "count  4682.00000  4682.000000  4682.000000  4682.000000           4682.0   \n",
       "mean   2340.50000    -9.151214     0.753518     2.471637              0.0   \n",
       "std    1351.72131     1.384390     1.102125     2.239906              0.0   \n",
       "min       0.00000   -23.796051    -9.097370    -7.353417              0.0   \n",
       "25%    1170.25000    -9.537719     0.322877     1.966646              0.0   \n",
       "50%    2340.50000    -9.234702     0.580891     3.137857              0.0   \n",
       "75%    3510.75000    -8.470460     1.368355     3.819931              0.0   \n",
       "max    4681.00000    -3.915590     5.996704    10.281080              0.0   \n",
       "\n",
       "              Turn  Walking  \n",
       "count  4682.000000   4682.0  \n",
       "mean      0.168304      0.0  \n",
       "std       0.374176      0.0  \n",
       "min       0.000000      0.0  \n",
       "25%       0.000000      0.0  \n",
       "50%       0.000000      0.0  \n",
       "75%       0.000000      0.0  \n",
       "max       1.000000      0.0  "
      ]
     },
     "execution_count": 4,
     "metadata": {},
     "output_type": "execute_result"
    }
   ],
   "source": [
    "tdcsfog_003f117e14.describe()"
   ]
  },
  {
   "cell_type": "markdown",
   "id": "8d30d0ee",
   "metadata": {
    "papermill": {
     "duration": 0.02456,
     "end_time": "2023-05-22T11:03:03.607725",
     "exception": false,
     "start_time": "2023-05-22T11:03:03.583165",
     "status": "completed"
    },
    "tags": []
   },
   "source": [
    "The \"mean\", \"std\", \"min\", \"25%\", \"50%\", \"75%\", and \"max\" values for each variable provide information about the distribution and range of the data. For example, the mean value for \"AccV\" is -9.15, indicating that the device was tilted slightly downwards on average. The standard deviation of 1.38 for \"AccV\" suggests that the device orientation varied quite a bit over time. The maximum and minimum values for each variable provide an idea of the range of motion that was captured by the sensor over the course of the data collection period.\n",
    "\n",
    "Here, **only Turn has the max value of 1**. Thus, **only a turn event occurred** in this experiment."
   ]
  },
  {
   "cell_type": "code",
   "execution_count": 5,
   "id": "1defa080",
   "metadata": {
    "execution": {
     "iopub.execute_input": "2023-05-22T11:03:03.660431Z",
     "iopub.status.busy": "2023-05-22T11:03:03.659773Z",
     "iopub.status.idle": "2023-05-22T11:03:03.682264Z",
     "shell.execute_reply": "2023-05-22T11:03:03.681159Z"
    },
    "papermill": {
     "duration": 0.052445,
     "end_time": "2023-05-22T11:03:03.685505",
     "exception": false,
     "start_time": "2023-05-22T11:03:03.633060",
     "status": "completed"
    },
    "tags": []
   },
   "outputs": [
    {
     "data": {
      "text/html": [
       "<div>\n",
       "<style scoped>\n",
       "    .dataframe tbody tr th:only-of-type {\n",
       "        vertical-align: middle;\n",
       "    }\n",
       "\n",
       "    .dataframe tbody tr th {\n",
       "        vertical-align: top;\n",
       "    }\n",
       "\n",
       "    .dataframe thead th {\n",
       "        text-align: right;\n",
       "    }\n",
       "</style>\n",
       "<table border=\"1\" class=\"dataframe\">\n",
       "  <thead>\n",
       "    <tr style=\"text-align: right;\">\n",
       "      <th></th>\n",
       "      <th>Time</th>\n",
       "      <th>AccV</th>\n",
       "      <th>AccML</th>\n",
       "      <th>AccAP</th>\n",
       "      <th>StartHesitation</th>\n",
       "      <th>Turn</th>\n",
       "      <th>Walking</th>\n",
       "    </tr>\n",
       "  </thead>\n",
       "  <tbody>\n",
       "    <tr>\n",
       "      <th>1103</th>\n",
       "      <td>1103</td>\n",
       "      <td>-9.395300</td>\n",
       "      <td>2.358647</td>\n",
       "      <td>2.928994</td>\n",
       "      <td>0</td>\n",
       "      <td>1</td>\n",
       "      <td>0</td>\n",
       "    </tr>\n",
       "    <tr>\n",
       "      <th>1104</th>\n",
       "      <td>1104</td>\n",
       "      <td>-9.166603</td>\n",
       "      <td>2.287368</td>\n",
       "      <td>2.894901</td>\n",
       "      <td>0</td>\n",
       "      <td>1</td>\n",
       "      <td>0</td>\n",
       "    </tr>\n",
       "    <tr>\n",
       "      <th>1105</th>\n",
       "      <td>1105</td>\n",
       "      <td>-9.181004</td>\n",
       "      <td>2.209043</td>\n",
       "      <td>2.736913</td>\n",
       "      <td>0</td>\n",
       "      <td>1</td>\n",
       "      <td>0</td>\n",
       "    </tr>\n",
       "    <tr>\n",
       "      <th>1106</th>\n",
       "      <td>1106</td>\n",
       "      <td>-9.206637</td>\n",
       "      <td>2.146686</td>\n",
       "      <td>2.741799</td>\n",
       "      <td>0</td>\n",
       "      <td>1</td>\n",
       "      <td>0</td>\n",
       "    </tr>\n",
       "    <tr>\n",
       "      <th>1107</th>\n",
       "      <td>1107</td>\n",
       "      <td>-9.180733</td>\n",
       "      <td>2.076467</td>\n",
       "      <td>2.802830</td>\n",
       "      <td>0</td>\n",
       "      <td>1</td>\n",
       "      <td>0</td>\n",
       "    </tr>\n",
       "    <tr>\n",
       "      <th>...</th>\n",
       "      <td>...</td>\n",
       "      <td>...</td>\n",
       "      <td>...</td>\n",
       "      <td>...</td>\n",
       "      <td>...</td>\n",
       "      <td>...</td>\n",
       "      <td>...</td>\n",
       "    </tr>\n",
       "    <tr>\n",
       "      <th>1886</th>\n",
       "      <td>1886</td>\n",
       "      <td>-8.802845</td>\n",
       "      <td>-0.308900</td>\n",
       "      <td>4.037725</td>\n",
       "      <td>0</td>\n",
       "      <td>1</td>\n",
       "      <td>0</td>\n",
       "    </tr>\n",
       "    <tr>\n",
       "      <th>1887</th>\n",
       "      <td>1887</td>\n",
       "      <td>-8.656770</td>\n",
       "      <td>-0.128992</td>\n",
       "      <td>4.042094</td>\n",
       "      <td>0</td>\n",
       "      <td>1</td>\n",
       "      <td>0</td>\n",
       "    </tr>\n",
       "    <tr>\n",
       "      <th>1888</th>\n",
       "      <td>1888</td>\n",
       "      <td>-8.578666</td>\n",
       "      <td>0.058676</td>\n",
       "      <td>4.048617</td>\n",
       "      <td>0</td>\n",
       "      <td>1</td>\n",
       "      <td>0</td>\n",
       "    </tr>\n",
       "    <tr>\n",
       "      <th>1889</th>\n",
       "      <td>1889</td>\n",
       "      <td>-8.548950</td>\n",
       "      <td>0.298799</td>\n",
       "      <td>4.027875</td>\n",
       "      <td>0</td>\n",
       "      <td>1</td>\n",
       "      <td>0</td>\n",
       "    </tr>\n",
       "    <tr>\n",
       "      <th>1890</th>\n",
       "      <td>1890</td>\n",
       "      <td>-8.567890</td>\n",
       "      <td>0.506176</td>\n",
       "      <td>4.000709</td>\n",
       "      <td>0</td>\n",
       "      <td>1</td>\n",
       "      <td>0</td>\n",
       "    </tr>\n",
       "  </tbody>\n",
       "</table>\n",
       "<p>788 rows × 7 columns</p>\n",
       "</div>"
      ],
      "text/plain": [
       "      Time      AccV     AccML     AccAP  StartHesitation  Turn  Walking\n",
       "1103  1103 -9.395300  2.358647  2.928994                0     1        0\n",
       "1104  1104 -9.166603  2.287368  2.894901                0     1        0\n",
       "1105  1105 -9.181004  2.209043  2.736913                0     1        0\n",
       "1106  1106 -9.206637  2.146686  2.741799                0     1        0\n",
       "1107  1107 -9.180733  2.076467  2.802830                0     1        0\n",
       "...    ...       ...       ...       ...              ...   ...      ...\n",
       "1886  1886 -8.802845 -0.308900  4.037725                0     1        0\n",
       "1887  1887 -8.656770 -0.128992  4.042094                0     1        0\n",
       "1888  1888 -8.578666  0.058676  4.048617                0     1        0\n",
       "1889  1889 -8.548950  0.298799  4.027875                0     1        0\n",
       "1890  1890 -8.567890  0.506176  4.000709                0     1        0\n",
       "\n",
       "[788 rows x 7 columns]"
      ]
     },
     "execution_count": 5,
     "metadata": {},
     "output_type": "execute_result"
    }
   ],
   "source": [
    "tdcsfog_003f117e14[tdcsfog_003f117e14['Turn'] == 1]"
   ]
  },
  {
   "cell_type": "markdown",
   "id": "4431ef2a",
   "metadata": {
    "papermill": {
     "duration": 0.026221,
     "end_time": "2023-05-22T11:03:03.737715",
     "exception": false,
     "start_time": "2023-05-22T11:03:03.711494",
     "status": "completed"
    },
    "tags": []
   },
   "source": [
    "**The sensor data was collected during this period of time (from 1103 to 1890) when the subject was making turns.**"
   ]
  },
  {
   "cell_type": "code",
   "execution_count": 6,
   "id": "2b2afaea",
   "metadata": {
    "execution": {
     "iopub.execute_input": "2023-05-22T11:03:03.791331Z",
     "iopub.status.busy": "2023-05-22T11:03:03.790642Z",
     "iopub.status.idle": "2023-05-22T11:03:03.813141Z",
     "shell.execute_reply": "2023-05-22T11:03:03.812294Z"
    },
    "papermill": {
     "duration": 0.051791,
     "end_time": "2023-05-22T11:03:03.815576",
     "exception": false,
     "start_time": "2023-05-22T11:03:03.763785",
     "status": "completed"
    },
    "tags": []
   },
   "outputs": [
    {
     "name": "stdout",
     "output_type": "stream",
     "text": [
      "<class 'pandas.core.frame.DataFrame'>\n",
      "RangeIndex: 4682 entries, 0 to 4681\n",
      "Data columns (total 7 columns):\n",
      " #   Column           Non-Null Count  Dtype  \n",
      "---  ------           --------------  -----  \n",
      " 0   Time             4682 non-null   int64  \n",
      " 1   AccV             4682 non-null   float64\n",
      " 2   AccML            4682 non-null   float64\n",
      " 3   AccAP            4682 non-null   float64\n",
      " 4   StartHesitation  4682 non-null   int64  \n",
      " 5   Turn             4682 non-null   int64  \n",
      " 6   Walking          4682 non-null   int64  \n",
      "dtypes: float64(3), int64(4)\n",
      "memory usage: 256.2 KB\n"
     ]
    }
   ],
   "source": [
    "tdcsfog_003f117e14.info()"
   ]
  },
  {
   "cell_type": "markdown",
   "id": "077a934a",
   "metadata": {
    "papermill": {
     "duration": 0.028117,
     "end_time": "2023-05-22T11:03:03.870816",
     "exception": false,
     "start_time": "2023-05-22T11:03:03.842699",
     "status": "completed"
    },
    "tags": []
   },
   "source": [
    "Here, we **normalize \"Time\"**."
   ]
  },
  {
   "cell_type": "code",
   "execution_count": 7,
   "id": "fd6192ac",
   "metadata": {
    "execution": {
     "iopub.execute_input": "2023-05-22T11:03:03.931391Z",
     "iopub.status.busy": "2023-05-22T11:03:03.930845Z",
     "iopub.status.idle": "2023-05-22T11:03:03.948242Z",
     "shell.execute_reply": "2023-05-22T11:03:03.947421Z"
    },
    "papermill": {
     "duration": 0.051168,
     "end_time": "2023-05-22T11:03:03.950616",
     "exception": false,
     "start_time": "2023-05-22T11:03:03.899448",
     "status": "completed"
    },
    "tags": []
   },
   "outputs": [
    {
     "data": {
      "text/html": [
       "<div>\n",
       "<style scoped>\n",
       "    .dataframe tbody tr th:only-of-type {\n",
       "        vertical-align: middle;\n",
       "    }\n",
       "\n",
       "    .dataframe tbody tr th {\n",
       "        vertical-align: top;\n",
       "    }\n",
       "\n",
       "    .dataframe thead th {\n",
       "        text-align: right;\n",
       "    }\n",
       "</style>\n",
       "<table border=\"1\" class=\"dataframe\">\n",
       "  <thead>\n",
       "    <tr style=\"text-align: right;\">\n",
       "      <th></th>\n",
       "      <th>Time</th>\n",
       "      <th>AccV</th>\n",
       "      <th>AccML</th>\n",
       "      <th>AccAP</th>\n",
       "      <th>StartHesitation</th>\n",
       "      <th>Turn</th>\n",
       "      <th>Walking</th>\n",
       "    </tr>\n",
       "  </thead>\n",
       "  <tbody>\n",
       "    <tr>\n",
       "      <th>0</th>\n",
       "      <td>0.000000</td>\n",
       "      <td>-9.533939</td>\n",
       "      <td>0.566322</td>\n",
       "      <td>-1.413525</td>\n",
       "      <td>0</td>\n",
       "      <td>0</td>\n",
       "      <td>0</td>\n",
       "    </tr>\n",
       "    <tr>\n",
       "      <th>1</th>\n",
       "      <td>0.000214</td>\n",
       "      <td>-9.536140</td>\n",
       "      <td>0.564137</td>\n",
       "      <td>-1.440621</td>\n",
       "      <td>0</td>\n",
       "      <td>0</td>\n",
       "      <td>0</td>\n",
       "    </tr>\n",
       "    <tr>\n",
       "      <th>2</th>\n",
       "      <td>0.000427</td>\n",
       "      <td>-9.529345</td>\n",
       "      <td>0.561765</td>\n",
       "      <td>-1.429332</td>\n",
       "      <td>0</td>\n",
       "      <td>0</td>\n",
       "      <td>0</td>\n",
       "    </tr>\n",
       "    <tr>\n",
       "      <th>3</th>\n",
       "      <td>0.000641</td>\n",
       "      <td>-9.531239</td>\n",
       "      <td>0.564227</td>\n",
       "      <td>-1.415490</td>\n",
       "      <td>0</td>\n",
       "      <td>0</td>\n",
       "      <td>0</td>\n",
       "    </tr>\n",
       "    <tr>\n",
       "      <th>4</th>\n",
       "      <td>0.000855</td>\n",
       "      <td>-9.540825</td>\n",
       "      <td>0.561854</td>\n",
       "      <td>-1.429471</td>\n",
       "      <td>0</td>\n",
       "      <td>0</td>\n",
       "      <td>0</td>\n",
       "    </tr>\n",
       "    <tr>\n",
       "      <th>...</th>\n",
       "      <td>...</td>\n",
       "      <td>...</td>\n",
       "      <td>...</td>\n",
       "      <td>...</td>\n",
       "      <td>...</td>\n",
       "      <td>...</td>\n",
       "      <td>...</td>\n",
       "    </tr>\n",
       "    <tr>\n",
       "      <th>4677</th>\n",
       "      <td>0.999145</td>\n",
       "      <td>-9.351431</td>\n",
       "      <td>0.370047</td>\n",
       "      <td>-2.286318</td>\n",
       "      <td>0</td>\n",
       "      <td>0</td>\n",
       "      <td>0</td>\n",
       "    </tr>\n",
       "    <tr>\n",
       "      <th>4678</th>\n",
       "      <td>0.999359</td>\n",
       "      <td>-9.341410</td>\n",
       "      <td>0.347721</td>\n",
       "      <td>-2.321991</td>\n",
       "      <td>0</td>\n",
       "      <td>0</td>\n",
       "      <td>0</td>\n",
       "    </tr>\n",
       "    <tr>\n",
       "      <th>4679</th>\n",
       "      <td>0.999573</td>\n",
       "      <td>-9.350667</td>\n",
       "      <td>0.361341</td>\n",
       "      <td>-2.297158</td>\n",
       "      <td>0</td>\n",
       "      <td>0</td>\n",
       "      <td>0</td>\n",
       "    </tr>\n",
       "    <tr>\n",
       "      <th>4680</th>\n",
       "      <td>0.999786</td>\n",
       "      <td>-9.343977</td>\n",
       "      <td>0.365726</td>\n",
       "      <td>-2.292650</td>\n",
       "      <td>0</td>\n",
       "      <td>0</td>\n",
       "      <td>0</td>\n",
       "    </tr>\n",
       "    <tr>\n",
       "      <th>4681</th>\n",
       "      <td>1.000000</td>\n",
       "      <td>-9.348477</td>\n",
       "      <td>0.379439</td>\n",
       "      <td>-2.335422</td>\n",
       "      <td>0</td>\n",
       "      <td>0</td>\n",
       "      <td>0</td>\n",
       "    </tr>\n",
       "  </tbody>\n",
       "</table>\n",
       "<p>4682 rows × 7 columns</p>\n",
       "</div>"
      ],
      "text/plain": [
       "          Time      AccV     AccML     AccAP  StartHesitation  Turn  Walking\n",
       "0     0.000000 -9.533939  0.566322 -1.413525                0     0        0\n",
       "1     0.000214 -9.536140  0.564137 -1.440621                0     0        0\n",
       "2     0.000427 -9.529345  0.561765 -1.429332                0     0        0\n",
       "3     0.000641 -9.531239  0.564227 -1.415490                0     0        0\n",
       "4     0.000855 -9.540825  0.561854 -1.429471                0     0        0\n",
       "...        ...       ...       ...       ...              ...   ...      ...\n",
       "4677  0.999145 -9.351431  0.370047 -2.286318                0     0        0\n",
       "4678  0.999359 -9.341410  0.347721 -2.321991                0     0        0\n",
       "4679  0.999573 -9.350667  0.361341 -2.297158                0     0        0\n",
       "4680  0.999786 -9.343977  0.365726 -2.292650                0     0        0\n",
       "4681  1.000000 -9.348477  0.379439 -2.335422                0     0        0\n",
       "\n",
       "[4682 rows x 7 columns]"
      ]
     },
     "execution_count": 7,
     "metadata": {},
     "output_type": "execute_result"
    }
   ],
   "source": [
    "tdcsfog_003f117e14.Time = tdcsfog_003f117e14.Time / (len(tdcsfog_003f117e14) -1)\n",
    "tdcsfog_003f117e14"
   ]
  },
  {
   "cell_type": "markdown",
   "id": "856ce97c",
   "metadata": {
    "papermill": {
     "duration": 0.026691,
     "end_time": "2023-05-22T11:03:04.003602",
     "exception": false,
     "start_time": "2023-05-22T11:03:03.976911",
     "status": "completed"
    },
    "tags": []
   },
   "source": [
    "In addition, **tdcsfog_metadata.csv identifies** each series in the tdcsfog dataset by **a unique Subject, Visit, Test, and Medication condition**."
   ]
  },
  {
   "cell_type": "code",
   "execution_count": 8,
   "id": "023bc3bd",
   "metadata": {
    "execution": {
     "iopub.execute_input": "2023-05-22T11:03:04.058520Z",
     "iopub.status.busy": "2023-05-22T11:03:04.058106Z",
     "iopub.status.idle": "2023-05-22T11:03:04.075996Z",
     "shell.execute_reply": "2023-05-22T11:03:04.074826Z"
    },
    "papermill": {
     "duration": 0.048591,
     "end_time": "2023-05-22T11:03:04.079097",
     "exception": false,
     "start_time": "2023-05-22T11:03:04.030506",
     "status": "completed"
    },
    "tags": []
   },
   "outputs": [
    {
     "data": {
      "text/html": [
       "<div>\n",
       "<style scoped>\n",
       "    .dataframe tbody tr th:only-of-type {\n",
       "        vertical-align: middle;\n",
       "    }\n",
       "\n",
       "    .dataframe tbody tr th {\n",
       "        vertical-align: top;\n",
       "    }\n",
       "\n",
       "    .dataframe thead th {\n",
       "        text-align: right;\n",
       "    }\n",
       "</style>\n",
       "<table border=\"1\" class=\"dataframe\">\n",
       "  <thead>\n",
       "    <tr style=\"text-align: right;\">\n",
       "      <th></th>\n",
       "      <th>Id</th>\n",
       "      <th>Subject</th>\n",
       "      <th>Visit</th>\n",
       "      <th>Medication</th>\n",
       "    </tr>\n",
       "  </thead>\n",
       "  <tbody>\n",
       "    <tr>\n",
       "      <th>0</th>\n",
       "      <td>02ab235146</td>\n",
       "      <td>e1f62e</td>\n",
       "      <td>2</td>\n",
       "      <td>on</td>\n",
       "    </tr>\n",
       "    <tr>\n",
       "      <th>1</th>\n",
       "      <td>02ea782681</td>\n",
       "      <td>ae2d35</td>\n",
       "      <td>2</td>\n",
       "      <td>on</td>\n",
       "    </tr>\n",
       "    <tr>\n",
       "      <th>2</th>\n",
       "      <td>06414383cf</td>\n",
       "      <td>8c1f5e</td>\n",
       "      <td>2</td>\n",
       "      <td>off</td>\n",
       "    </tr>\n",
       "    <tr>\n",
       "      <th>3</th>\n",
       "      <td>092b4c1819</td>\n",
       "      <td>2874c5</td>\n",
       "      <td>1</td>\n",
       "      <td>off</td>\n",
       "    </tr>\n",
       "    <tr>\n",
       "      <th>4</th>\n",
       "      <td>0a900ed8a2</td>\n",
       "      <td>0e3d49</td>\n",
       "      <td>2</td>\n",
       "      <td>on</td>\n",
       "    </tr>\n",
       "  </tbody>\n",
       "</table>\n",
       "</div>"
      ],
      "text/plain": [
       "           Id Subject  Visit Medication\n",
       "0  02ab235146  e1f62e      2         on\n",
       "1  02ea782681  ae2d35      2         on\n",
       "2  06414383cf  8c1f5e      2        off\n",
       "3  092b4c1819  2874c5      1        off\n",
       "4  0a900ed8a2  0e3d49      2         on"
      ]
     },
     "execution_count": 8,
     "metadata": {},
     "output_type": "execute_result"
    }
   ],
   "source": [
    "# tdcsfog metadata file\n",
    "tdcsfog_metadata = pd.read_csv(\"/kaggle/input/tlvmc-parkinsons-freezing-gait-prediction/defog_metadata.csv\")\n",
    "tdcsfog_metadata.head(5)"
   ]
  },
  {
   "cell_type": "markdown",
   "id": "a77d9da0",
   "metadata": {
    "papermill": {
     "duration": 0.026848,
     "end_time": "2023-05-22T11:03:04.131561",
     "exception": false,
     "start_time": "2023-05-22T11:03:04.104713",
     "status": "completed"
    },
    "tags": []
   },
   "source": [
    "This table appears to be a dataset containing information about patients, including their **unique ID (\"Id\"), subject ID (\"Subject\"), visit number (\"Visit\"), and medication status (\"Medication\")**.\n",
    "\n",
    "The **\"Id\"** column likely represents **a unique identifier assigned to each experiment** in the dataset. The \"Subject\" column represents **a unique identifier assigned to each patient**. The \"Visit\" column may represent a particular visit or assessment of the patient, and could be used to track changes in medication status or other variables over time.\n",
    "\n",
    "The \"Medication\" column indicates **whether or not the patient is taking medication at the time of the visit**, and could potentially be used as a predictor variable in a machine learning model to predict patient outcomes or response to treatment. However, without additional information about the context and purpose of this dataset, it is difficult to draw any further conclusions.\n",
    "\n",
    "**Next, let's see the test and sample submission files.**\n",
    "\n",
    "### Do Not Run This Cell in Case of Submission!"
   ]
  },
  {
   "cell_type": "code",
   "execution_count": 9,
   "id": "06f4affc",
   "metadata": {
    "execution": {
     "iopub.execute_input": "2023-05-22T11:03:04.186343Z",
     "iopub.status.busy": "2023-05-22T11:03:04.185580Z",
     "iopub.status.idle": "2023-05-22T11:03:04.190445Z",
     "shell.execute_reply": "2023-05-22T11:03:04.189589Z"
    },
    "papermill": {
     "duration": 0.034923,
     "end_time": "2023-05-22T11:03:04.192772",
     "exception": false,
     "start_time": "2023-05-22T11:03:04.157849",
     "status": "completed"
    },
    "tags": []
   },
   "outputs": [],
   "source": [
    "# test file for tdcsfog\n",
    "#tdcsfog_003f117e14 = pd.read_csv('/kaggle/input/tlvmc-parkinsons-freezing-gait-prediction/test/tdcsfog/003f117e14.csv')\n",
    "#tdcsfog_003f117e14"
   ]
  },
  {
   "cell_type": "markdown",
   "id": "92e06ebd",
   "metadata": {
    "papermill": {
     "duration": 0.026233,
     "end_time": "2023-05-22T11:03:04.244310",
     "exception": false,
     "start_time": "2023-05-22T11:03:04.218077",
     "status": "completed"
    },
    "tags": []
   },
   "source": [
    "This table appears to be a time series dataset containing motion sensor data, possibly from a wearable device, for a single subject. Each row represents a particular moment in time (as indicated by the **\"Time\"** column) and contains measurements of acceleration in three dimensions (**\"AccV\", \"AccML\", and \"AccAP\"**)."
   ]
  },
  {
   "cell_type": "code",
   "execution_count": 10,
   "id": "ade0645f",
   "metadata": {
    "execution": {
     "iopub.execute_input": "2023-05-22T11:03:04.297322Z",
     "iopub.status.busy": "2023-05-22T11:03:04.296908Z",
     "iopub.status.idle": "2023-05-22T11:03:04.716137Z",
     "shell.execute_reply": "2023-05-22T11:03:04.714826Z"
    },
    "papermill": {
     "duration": 0.449337,
     "end_time": "2023-05-22T11:03:04.719244",
     "exception": false,
     "start_time": "2023-05-22T11:03:04.269907",
     "status": "completed"
    },
    "tags": []
   },
   "outputs": [
    {
     "data": {
      "text/html": [
       "<div>\n",
       "<style scoped>\n",
       "    .dataframe tbody tr th:only-of-type {\n",
       "        vertical-align: middle;\n",
       "    }\n",
       "\n",
       "    .dataframe tbody tr th {\n",
       "        vertical-align: top;\n",
       "    }\n",
       "\n",
       "    .dataframe thead th {\n",
       "        text-align: right;\n",
       "    }\n",
       "</style>\n",
       "<table border=\"1\" class=\"dataframe\">\n",
       "  <thead>\n",
       "    <tr style=\"text-align: right;\">\n",
       "      <th></th>\n",
       "      <th>Id</th>\n",
       "      <th>StartHesitation</th>\n",
       "      <th>Turn</th>\n",
       "      <th>Walking</th>\n",
       "    </tr>\n",
       "  </thead>\n",
       "  <tbody>\n",
       "    <tr>\n",
       "      <th>0</th>\n",
       "      <td>003f117e14_0</td>\n",
       "      <td>0</td>\n",
       "      <td>0</td>\n",
       "      <td>0</td>\n",
       "    </tr>\n",
       "    <tr>\n",
       "      <th>1</th>\n",
       "      <td>003f117e14_1</td>\n",
       "      <td>0</td>\n",
       "      <td>0</td>\n",
       "      <td>0</td>\n",
       "    </tr>\n",
       "    <tr>\n",
       "      <th>2</th>\n",
       "      <td>003f117e14_2</td>\n",
       "      <td>0</td>\n",
       "      <td>0</td>\n",
       "      <td>0</td>\n",
       "    </tr>\n",
       "    <tr>\n",
       "      <th>3</th>\n",
       "      <td>003f117e14_3</td>\n",
       "      <td>0</td>\n",
       "      <td>0</td>\n",
       "      <td>0</td>\n",
       "    </tr>\n",
       "    <tr>\n",
       "      <th>4</th>\n",
       "      <td>003f117e14_4</td>\n",
       "      <td>0</td>\n",
       "      <td>0</td>\n",
       "      <td>0</td>\n",
       "    </tr>\n",
       "    <tr>\n",
       "      <th>...</th>\n",
       "      <td>...</td>\n",
       "      <td>...</td>\n",
       "      <td>...</td>\n",
       "      <td>...</td>\n",
       "    </tr>\n",
       "    <tr>\n",
       "      <th>286365</th>\n",
       "      <td>02ab235146_281683</td>\n",
       "      <td>0</td>\n",
       "      <td>0</td>\n",
       "      <td>0</td>\n",
       "    </tr>\n",
       "    <tr>\n",
       "      <th>286366</th>\n",
       "      <td>02ab235146_281684</td>\n",
       "      <td>0</td>\n",
       "      <td>0</td>\n",
       "      <td>0</td>\n",
       "    </tr>\n",
       "    <tr>\n",
       "      <th>286367</th>\n",
       "      <td>02ab235146_281685</td>\n",
       "      <td>0</td>\n",
       "      <td>0</td>\n",
       "      <td>0</td>\n",
       "    </tr>\n",
       "    <tr>\n",
       "      <th>286368</th>\n",
       "      <td>02ab235146_281686</td>\n",
       "      <td>0</td>\n",
       "      <td>0</td>\n",
       "      <td>0</td>\n",
       "    </tr>\n",
       "    <tr>\n",
       "      <th>286369</th>\n",
       "      <td>02ab235146_281687</td>\n",
       "      <td>0</td>\n",
       "      <td>0</td>\n",
       "      <td>0</td>\n",
       "    </tr>\n",
       "  </tbody>\n",
       "</table>\n",
       "<p>286370 rows × 4 columns</p>\n",
       "</div>"
      ],
      "text/plain": [
       "                       Id  StartHesitation  Turn  Walking\n",
       "0            003f117e14_0                0     0        0\n",
       "1            003f117e14_1                0     0        0\n",
       "2            003f117e14_2                0     0        0\n",
       "3            003f117e14_3                0     0        0\n",
       "4            003f117e14_4                0     0        0\n",
       "...                   ...              ...   ...      ...\n",
       "286365  02ab235146_281683                0     0        0\n",
       "286366  02ab235146_281684                0     0        0\n",
       "286367  02ab235146_281685                0     0        0\n",
       "286368  02ab235146_281686                0     0        0\n",
       "286369  02ab235146_281687                0     0        0\n",
       "\n",
       "[286370 rows x 4 columns]"
      ]
     },
     "execution_count": 10,
     "metadata": {},
     "output_type": "execute_result"
    }
   ],
   "source": [
    "# sample submission file\n",
    "sample_submission = pd.read_csv('/kaggle/input/tlvmc-parkinsons-freezing-gait-prediction/sample_submission.csv')\n",
    "sample_submission"
   ]
  },
  {
   "cell_type": "markdown",
   "id": "0833647a",
   "metadata": {
    "papermill": {
     "duration": 0.026325,
     "end_time": "2023-05-22T11:03:04.773172",
     "exception": false,
     "start_time": "2023-05-22T11:03:04.746847",
     "status": "completed"
    },
    "tags": []
   },
   "source": [
    "This table appears to contain information as to **\"StartHesitation\", \"Turn\", and \"Walking.\"**\n",
    "\n",
    "Therefore, we have to make a model to **predict  \"StartHesitation\", \"Turn\", and \"Walking\" from  \"Time\",  \"AccV\", \"AccML\", and \"AccAP\"** in this competition. Thus, at the moment, we do **not use tdcsfog_metadata**.\n",
    "\n",
    "**Next, let's see one file in the defog folder.**"
   ]
  },
  {
   "cell_type": "code",
   "execution_count": 11,
   "id": "c70d6517",
   "metadata": {
    "execution": {
     "iopub.execute_input": "2023-05-22T11:03:04.830972Z",
     "iopub.status.busy": "2023-05-22T11:03:04.830479Z",
     "iopub.status.idle": "2023-05-22T11:03:05.153341Z",
     "shell.execute_reply": "2023-05-22T11:03:05.151917Z"
    },
    "papermill": {
     "duration": 0.355275,
     "end_time": "2023-05-22T11:03:05.156192",
     "exception": false,
     "start_time": "2023-05-22T11:03:04.800917",
     "status": "completed"
    },
    "tags": []
   },
   "outputs": [
    {
     "data": {
      "text/html": [
       "<div>\n",
       "<style scoped>\n",
       "    .dataframe tbody tr th:only-of-type {\n",
       "        vertical-align: middle;\n",
       "    }\n",
       "\n",
       "    .dataframe tbody tr th {\n",
       "        vertical-align: top;\n",
       "    }\n",
       "\n",
       "    .dataframe thead th {\n",
       "        text-align: right;\n",
       "    }\n",
       "</style>\n",
       "<table border=\"1\" class=\"dataframe\">\n",
       "  <thead>\n",
       "    <tr style=\"text-align: right;\">\n",
       "      <th></th>\n",
       "      <th>Time</th>\n",
       "      <th>AccV</th>\n",
       "      <th>AccML</th>\n",
       "      <th>AccAP</th>\n",
       "      <th>StartHesitation</th>\n",
       "      <th>Turn</th>\n",
       "      <th>Walking</th>\n",
       "      <th>Valid</th>\n",
       "      <th>Task</th>\n",
       "    </tr>\n",
       "  </thead>\n",
       "  <tbody>\n",
       "    <tr>\n",
       "      <th>0</th>\n",
       "      <td>0</td>\n",
       "      <td>-1.000000</td>\n",
       "      <td>0.044129</td>\n",
       "      <td>-0.250000</td>\n",
       "      <td>0</td>\n",
       "      <td>0</td>\n",
       "      <td>0</td>\n",
       "      <td>False</td>\n",
       "      <td>False</td>\n",
       "    </tr>\n",
       "    <tr>\n",
       "      <th>1</th>\n",
       "      <td>1</td>\n",
       "      <td>-1.000000</td>\n",
       "      <td>0.034431</td>\n",
       "      <td>-0.250000</td>\n",
       "      <td>0</td>\n",
       "      <td>0</td>\n",
       "      <td>0</td>\n",
       "      <td>False</td>\n",
       "      <td>False</td>\n",
       "    </tr>\n",
       "    <tr>\n",
       "      <th>2</th>\n",
       "      <td>2</td>\n",
       "      <td>-1.000000</td>\n",
       "      <td>0.031250</td>\n",
       "      <td>-0.250000</td>\n",
       "      <td>0</td>\n",
       "      <td>0</td>\n",
       "      <td>0</td>\n",
       "      <td>False</td>\n",
       "      <td>False</td>\n",
       "    </tr>\n",
       "    <tr>\n",
       "      <th>3</th>\n",
       "      <td>3</td>\n",
       "      <td>-1.000000</td>\n",
       "      <td>0.031250</td>\n",
       "      <td>-0.250000</td>\n",
       "      <td>0</td>\n",
       "      <td>0</td>\n",
       "      <td>0</td>\n",
       "      <td>False</td>\n",
       "      <td>False</td>\n",
       "    </tr>\n",
       "    <tr>\n",
       "      <th>4</th>\n",
       "      <td>4</td>\n",
       "      <td>-1.000000</td>\n",
       "      <td>0.031250</td>\n",
       "      <td>-0.250000</td>\n",
       "      <td>0</td>\n",
       "      <td>0</td>\n",
       "      <td>0</td>\n",
       "      <td>False</td>\n",
       "      <td>False</td>\n",
       "    </tr>\n",
       "    <tr>\n",
       "      <th>...</th>\n",
       "      <td>...</td>\n",
       "      <td>...</td>\n",
       "      <td>...</td>\n",
       "      <td>...</td>\n",
       "      <td>...</td>\n",
       "      <td>...</td>\n",
       "      <td>...</td>\n",
       "      <td>...</td>\n",
       "      <td>...</td>\n",
       "    </tr>\n",
       "    <tr>\n",
       "      <th>162902</th>\n",
       "      <td>162902</td>\n",
       "      <td>-1.007283</td>\n",
       "      <td>0.234375</td>\n",
       "      <td>-0.375000</td>\n",
       "      <td>0</td>\n",
       "      <td>0</td>\n",
       "      <td>0</td>\n",
       "      <td>False</td>\n",
       "      <td>False</td>\n",
       "    </tr>\n",
       "    <tr>\n",
       "      <th>162903</th>\n",
       "      <td>162903</td>\n",
       "      <td>-1.000000</td>\n",
       "      <td>0.234375</td>\n",
       "      <td>-0.369159</td>\n",
       "      <td>0</td>\n",
       "      <td>0</td>\n",
       "      <td>0</td>\n",
       "      <td>False</td>\n",
       "      <td>False</td>\n",
       "    </tr>\n",
       "    <tr>\n",
       "      <th>162904</th>\n",
       "      <td>162904</td>\n",
       "      <td>-0.994626</td>\n",
       "      <td>0.234375</td>\n",
       "      <td>-0.351954</td>\n",
       "      <td>0</td>\n",
       "      <td>0</td>\n",
       "      <td>0</td>\n",
       "      <td>False</td>\n",
       "      <td>False</td>\n",
       "    </tr>\n",
       "    <tr>\n",
       "      <th>162905</th>\n",
       "      <td>162905</td>\n",
       "      <td>-0.977308</td>\n",
       "      <td>0.234375</td>\n",
       "      <td>-0.336683</td>\n",
       "      <td>0</td>\n",
       "      <td>0</td>\n",
       "      <td>0</td>\n",
       "      <td>False</td>\n",
       "      <td>False</td>\n",
       "    </tr>\n",
       "    <tr>\n",
       "      <th>162906</th>\n",
       "      <td>162906</td>\n",
       "      <td>-0.960406</td>\n",
       "      <td>0.234375</td>\n",
       "      <td>-0.319781</td>\n",
       "      <td>0</td>\n",
       "      <td>0</td>\n",
       "      <td>0</td>\n",
       "      <td>False</td>\n",
       "      <td>False</td>\n",
       "    </tr>\n",
       "  </tbody>\n",
       "</table>\n",
       "<p>162907 rows × 9 columns</p>\n",
       "</div>"
      ],
      "text/plain": [
       "          Time      AccV     AccML     AccAP  StartHesitation  Turn  Walking  \\\n",
       "0            0 -1.000000  0.044129 -0.250000                0     0        0   \n",
       "1            1 -1.000000  0.034431 -0.250000                0     0        0   \n",
       "2            2 -1.000000  0.031250 -0.250000                0     0        0   \n",
       "3            3 -1.000000  0.031250 -0.250000                0     0        0   \n",
       "4            4 -1.000000  0.031250 -0.250000                0     0        0   \n",
       "...        ...       ...       ...       ...              ...   ...      ...   \n",
       "162902  162902 -1.007283  0.234375 -0.375000                0     0        0   \n",
       "162903  162903 -1.000000  0.234375 -0.369159                0     0        0   \n",
       "162904  162904 -0.994626  0.234375 -0.351954                0     0        0   \n",
       "162905  162905 -0.977308  0.234375 -0.336683                0     0        0   \n",
       "162906  162906 -0.960406  0.234375 -0.319781                0     0        0   \n",
       "\n",
       "        Valid   Task  \n",
       "0       False  False  \n",
       "1       False  False  \n",
       "2       False  False  \n",
       "3       False  False  \n",
       "4       False  False  \n",
       "...       ...    ...  \n",
       "162902  False  False  \n",
       "162903  False  False  \n",
       "162904  False  False  \n",
       "162905  False  False  \n",
       "162906  False  False  \n",
       "\n",
       "[162907 rows x 9 columns]"
      ]
     },
     "execution_count": 11,
     "metadata": {},
     "output_type": "execute_result"
    }
   ],
   "source": [
    "# one defog file\n",
    "defog_02ea782681 = pd.read_csv('/kaggle/input/tlvmc-parkinsons-freezing-gait-prediction/train/defog/02ea782681.csv')\n",
    "defog_02ea782681"
   ]
  },
  {
   "cell_type": "markdown",
   "id": "1b23a169",
   "metadata": {
    "papermill": {
     "duration": 0.027245,
     "end_time": "2023-05-22T11:03:05.211564",
     "exception": false,
     "start_time": "2023-05-22T11:03:05.184319",
     "status": "completed"
    },
    "tags": []
   },
   "source": [
    "Here, we **normalize \"Time\"**."
   ]
  },
  {
   "cell_type": "code",
   "execution_count": 12,
   "id": "b4e24eb9",
   "metadata": {
    "execution": {
     "iopub.execute_input": "2023-05-22T11:03:05.270760Z",
     "iopub.status.busy": "2023-05-22T11:03:05.269579Z",
     "iopub.status.idle": "2023-05-22T11:03:05.295553Z",
     "shell.execute_reply": "2023-05-22T11:03:05.294419Z"
    },
    "papermill": {
     "duration": 0.059587,
     "end_time": "2023-05-22T11:03:05.298094",
     "exception": false,
     "start_time": "2023-05-22T11:03:05.238507",
     "status": "completed"
    },
    "tags": []
   },
   "outputs": [
    {
     "data": {
      "text/html": [
       "<div>\n",
       "<style scoped>\n",
       "    .dataframe tbody tr th:only-of-type {\n",
       "        vertical-align: middle;\n",
       "    }\n",
       "\n",
       "    .dataframe tbody tr th {\n",
       "        vertical-align: top;\n",
       "    }\n",
       "\n",
       "    .dataframe thead th {\n",
       "        text-align: right;\n",
       "    }\n",
       "</style>\n",
       "<table border=\"1\" class=\"dataframe\">\n",
       "  <thead>\n",
       "    <tr style=\"text-align: right;\">\n",
       "      <th></th>\n",
       "      <th>Time</th>\n",
       "      <th>AccV</th>\n",
       "      <th>AccML</th>\n",
       "      <th>AccAP</th>\n",
       "      <th>StartHesitation</th>\n",
       "      <th>Turn</th>\n",
       "      <th>Walking</th>\n",
       "      <th>Valid</th>\n",
       "      <th>Task</th>\n",
       "    </tr>\n",
       "  </thead>\n",
       "  <tbody>\n",
       "    <tr>\n",
       "      <th>0</th>\n",
       "      <td>0.000000</td>\n",
       "      <td>-1.000000</td>\n",
       "      <td>0.044129</td>\n",
       "      <td>-0.250000</td>\n",
       "      <td>0</td>\n",
       "      <td>0</td>\n",
       "      <td>0</td>\n",
       "      <td>False</td>\n",
       "      <td>False</td>\n",
       "    </tr>\n",
       "    <tr>\n",
       "      <th>1</th>\n",
       "      <td>0.000006</td>\n",
       "      <td>-1.000000</td>\n",
       "      <td>0.034431</td>\n",
       "      <td>-0.250000</td>\n",
       "      <td>0</td>\n",
       "      <td>0</td>\n",
       "      <td>0</td>\n",
       "      <td>False</td>\n",
       "      <td>False</td>\n",
       "    </tr>\n",
       "    <tr>\n",
       "      <th>2</th>\n",
       "      <td>0.000012</td>\n",
       "      <td>-1.000000</td>\n",
       "      <td>0.031250</td>\n",
       "      <td>-0.250000</td>\n",
       "      <td>0</td>\n",
       "      <td>0</td>\n",
       "      <td>0</td>\n",
       "      <td>False</td>\n",
       "      <td>False</td>\n",
       "    </tr>\n",
       "    <tr>\n",
       "      <th>3</th>\n",
       "      <td>0.000018</td>\n",
       "      <td>-1.000000</td>\n",
       "      <td>0.031250</td>\n",
       "      <td>-0.250000</td>\n",
       "      <td>0</td>\n",
       "      <td>0</td>\n",
       "      <td>0</td>\n",
       "      <td>False</td>\n",
       "      <td>False</td>\n",
       "    </tr>\n",
       "    <tr>\n",
       "      <th>4</th>\n",
       "      <td>0.000025</td>\n",
       "      <td>-1.000000</td>\n",
       "      <td>0.031250</td>\n",
       "      <td>-0.250000</td>\n",
       "      <td>0</td>\n",
       "      <td>0</td>\n",
       "      <td>0</td>\n",
       "      <td>False</td>\n",
       "      <td>False</td>\n",
       "    </tr>\n",
       "    <tr>\n",
       "      <th>...</th>\n",
       "      <td>...</td>\n",
       "      <td>...</td>\n",
       "      <td>...</td>\n",
       "      <td>...</td>\n",
       "      <td>...</td>\n",
       "      <td>...</td>\n",
       "      <td>...</td>\n",
       "      <td>...</td>\n",
       "      <td>...</td>\n",
       "    </tr>\n",
       "    <tr>\n",
       "      <th>162902</th>\n",
       "      <td>0.999975</td>\n",
       "      <td>-1.007283</td>\n",
       "      <td>0.234375</td>\n",
       "      <td>-0.375000</td>\n",
       "      <td>0</td>\n",
       "      <td>0</td>\n",
       "      <td>0</td>\n",
       "      <td>False</td>\n",
       "      <td>False</td>\n",
       "    </tr>\n",
       "    <tr>\n",
       "      <th>162903</th>\n",
       "      <td>0.999982</td>\n",
       "      <td>-1.000000</td>\n",
       "      <td>0.234375</td>\n",
       "      <td>-0.369159</td>\n",
       "      <td>0</td>\n",
       "      <td>0</td>\n",
       "      <td>0</td>\n",
       "      <td>False</td>\n",
       "      <td>False</td>\n",
       "    </tr>\n",
       "    <tr>\n",
       "      <th>162904</th>\n",
       "      <td>0.999988</td>\n",
       "      <td>-0.994626</td>\n",
       "      <td>0.234375</td>\n",
       "      <td>-0.351954</td>\n",
       "      <td>0</td>\n",
       "      <td>0</td>\n",
       "      <td>0</td>\n",
       "      <td>False</td>\n",
       "      <td>False</td>\n",
       "    </tr>\n",
       "    <tr>\n",
       "      <th>162905</th>\n",
       "      <td>0.999994</td>\n",
       "      <td>-0.977308</td>\n",
       "      <td>0.234375</td>\n",
       "      <td>-0.336683</td>\n",
       "      <td>0</td>\n",
       "      <td>0</td>\n",
       "      <td>0</td>\n",
       "      <td>False</td>\n",
       "      <td>False</td>\n",
       "    </tr>\n",
       "    <tr>\n",
       "      <th>162906</th>\n",
       "      <td>1.000000</td>\n",
       "      <td>-0.960406</td>\n",
       "      <td>0.234375</td>\n",
       "      <td>-0.319781</td>\n",
       "      <td>0</td>\n",
       "      <td>0</td>\n",
       "      <td>0</td>\n",
       "      <td>False</td>\n",
       "      <td>False</td>\n",
       "    </tr>\n",
       "  </tbody>\n",
       "</table>\n",
       "<p>162907 rows × 9 columns</p>\n",
       "</div>"
      ],
      "text/plain": [
       "            Time      AccV     AccML     AccAP  StartHesitation  Turn  \\\n",
       "0       0.000000 -1.000000  0.044129 -0.250000                0     0   \n",
       "1       0.000006 -1.000000  0.034431 -0.250000                0     0   \n",
       "2       0.000012 -1.000000  0.031250 -0.250000                0     0   \n",
       "3       0.000018 -1.000000  0.031250 -0.250000                0     0   \n",
       "4       0.000025 -1.000000  0.031250 -0.250000                0     0   \n",
       "...          ...       ...       ...       ...              ...   ...   \n",
       "162902  0.999975 -1.007283  0.234375 -0.375000                0     0   \n",
       "162903  0.999982 -1.000000  0.234375 -0.369159                0     0   \n",
       "162904  0.999988 -0.994626  0.234375 -0.351954                0     0   \n",
       "162905  0.999994 -0.977308  0.234375 -0.336683                0     0   \n",
       "162906  1.000000 -0.960406  0.234375 -0.319781                0     0   \n",
       "\n",
       "        Walking  Valid   Task  \n",
       "0             0  False  False  \n",
       "1             0  False  False  \n",
       "2             0  False  False  \n",
       "3             0  False  False  \n",
       "4             0  False  False  \n",
       "...         ...    ...    ...  \n",
       "162902        0  False  False  \n",
       "162903        0  False  False  \n",
       "162904        0  False  False  \n",
       "162905        0  False  False  \n",
       "162906        0  False  False  \n",
       "\n",
       "[162907 rows x 9 columns]"
      ]
     },
     "execution_count": 12,
     "metadata": {},
     "output_type": "execute_result"
    }
   ],
   "source": [
    "defog_02ea782681.Time = defog_02ea782681.Time / (len(defog_02ea782681) - 1)\n",
    "defog_02ea782681"
   ]
  },
  {
   "cell_type": "markdown",
   "id": "c0f195ee",
   "metadata": {
    "papermill": {
     "duration": 0.033726,
     "end_time": "2023-05-22T11:03:05.359199",
     "exception": false,
     "start_time": "2023-05-22T11:03:05.325473",
     "status": "completed"
    },
    "tags": []
   },
   "source": [
    "This table appears to contain sensor data and annotations related to a task performed by a subject. The columns **\"Time\", \"AccV\", \"AccML\", and \"AccAP\" likely contain motion sensor data similar to the previous examples**.\n",
    "\n",
    "The columns \"StartHesitation\", \"Turn\", and \"Walking\" appear to correspond to whether the subject is performing certain activities at each time point, similar to the previous example. However, in this case, there are **additional columns \"Valid\" and \"Task\" that provide information about the validity of the annotations and the task performed**.\n",
    "\n",
    "The **\"Valid\"** column appears to indicate whether the annotations for a given time point are considered to be **reliable or not**. The **\"Task\"** column appears to indicate whether the task was performed during a given time point. Portions of the data marked **\"False\"** in this column should be considered **unannotated and not used in analysis**.\n",
    "\n",
    "It's possible that this dataset was collected in the context of studying movement disorders or other neurological conditions, where accurate annotation of sensor data is important for clinical diagnosis and treatment planning. **This dataset could potentially be used to develop machine learning models to predict task performance or identify patterns of sensor data associated with certain movements or behaviors.** However, given the additional complexity introduced by the \"Valid\" and \"Task\" columns, **careful attention** would need to be paid to cleaning and preprocessing the data before using it for analysis or modeling.\n",
    "\n",
    "**Next, let's see its test file.**\n",
    "\n",
    "### Do Not Run This Cell in Case of Submission!"
   ]
  },
  {
   "cell_type": "code",
   "execution_count": 13,
   "id": "32ab7ec8",
   "metadata": {
    "execution": {
     "iopub.execute_input": "2023-05-22T11:03:05.423454Z",
     "iopub.status.busy": "2023-05-22T11:03:05.422619Z",
     "iopub.status.idle": "2023-05-22T11:03:05.427331Z",
     "shell.execute_reply": "2023-05-22T11:03:05.426357Z"
    },
    "papermill": {
     "duration": 0.040011,
     "end_time": "2023-05-22T11:03:05.429851",
     "exception": false,
     "start_time": "2023-05-22T11:03:05.389840",
     "status": "completed"
    },
    "tags": []
   },
   "outputs": [],
   "source": [
    "# test file for defog\n",
    "#defog_02ab235146 = pd.read_csv('/kaggle/input/tlvmc-parkinsons-freezing-gait-prediction/test/defog/02ab235146.csv')\n",
    "#defog_02ab235146"
   ]
  },
  {
   "cell_type": "markdown",
   "id": "d5cee9cf",
   "metadata": {
    "papermill": {
     "duration": 0.026917,
     "end_time": "2023-05-22T11:03:05.485163",
     "exception": false,
     "start_time": "2023-05-22T11:03:05.458246",
     "status": "completed"
    },
    "tags": []
   },
   "source": [
    "This table appears to be a time series dataset containing motion sensor data, possibly from a wearable device, for a single subject. Each row represents a particular moment in time (as indicated by the **\"Time\"** column) and contains measurements of acceleration in three dimensions (**\"AccV\", \"AccML\", and \"AccAP\"**).\n",
    "\n",
    "Therefore, we have to make a model to **predict  \"StartHesitation\", \"Turn\", and \"Walking\" from  \"Time\",  \"AccV\", \"AccML\", and \"AccAP\"** in this competition, **which is exactly the same as the tdcsfog folder**.\n",
    "\n",
    "**The tdcsfog folder includes more than 800 csv files and accounts for the majority of the information contained in the whole dataset for this competition.** Therefore, **the training files in the tdcsfog folder might be sufficient to create the prediction model to carry out the tasks**.\n",
    "\n",
    "Let's **take all the csv files in the tdcsfog folder and combine them into one dataset**."
   ]
  },
  {
   "cell_type": "markdown",
   "id": "a1c730cc",
   "metadata": {
    "papermill": {
     "duration": 0.030636,
     "end_time": "2023-05-22T11:03:05.543199",
     "exception": false,
     "start_time": "2023-05-22T11:03:05.512563",
     "status": "completed"
    },
    "tags": []
   },
   "source": [
    "# Take All the CSV Files in the Train tdcsfog Folder"
   ]
  },
  {
   "cell_type": "code",
   "execution_count": 14,
   "id": "59b17cb3",
   "metadata": {
    "execution": {
     "iopub.execute_input": "2023-05-22T11:03:05.609014Z",
     "iopub.status.busy": "2023-05-22T11:03:05.608090Z",
     "iopub.status.idle": "2023-05-22T11:03:24.568348Z",
     "shell.execute_reply": "2023-05-22T11:03:24.567107Z"
    },
    "papermill": {
     "duration": 18.994764,
     "end_time": "2023-05-22T11:03:24.570961",
     "exception": false,
     "start_time": "2023-05-22T11:03:05.576197",
     "status": "completed"
    },
    "tags": []
   },
   "outputs": [
    {
     "data": {
      "text/html": [
       "<div>\n",
       "<style scoped>\n",
       "    .dataframe tbody tr th:only-of-type {\n",
       "        vertical-align: middle;\n",
       "    }\n",
       "\n",
       "    .dataframe tbody tr th {\n",
       "        vertical-align: top;\n",
       "    }\n",
       "\n",
       "    .dataframe thead th {\n",
       "        text-align: right;\n",
       "    }\n",
       "</style>\n",
       "<table border=\"1\" class=\"dataframe\">\n",
       "  <thead>\n",
       "    <tr style=\"text-align: right;\">\n",
       "      <th></th>\n",
       "      <th>Time</th>\n",
       "      <th>AccV</th>\n",
       "      <th>AccML</th>\n",
       "      <th>AccAP</th>\n",
       "      <th>StartHesitation</th>\n",
       "      <th>Turn</th>\n",
       "      <th>Walking</th>\n",
       "    </tr>\n",
       "  </thead>\n",
       "  <tbody>\n",
       "    <tr>\n",
       "      <th>0</th>\n",
       "      <td>0.000000</td>\n",
       "      <td>-9.665890</td>\n",
       "      <td>0.042550</td>\n",
       "      <td>0.184744</td>\n",
       "      <td>0</td>\n",
       "      <td>0</td>\n",
       "      <td>0</td>\n",
       "    </tr>\n",
       "    <tr>\n",
       "      <th>1</th>\n",
       "      <td>0.000135</td>\n",
       "      <td>-9.672969</td>\n",
       "      <td>0.049217</td>\n",
       "      <td>0.184644</td>\n",
       "      <td>0</td>\n",
       "      <td>0</td>\n",
       "      <td>0</td>\n",
       "    </tr>\n",
       "    <tr>\n",
       "      <th>2</th>\n",
       "      <td>0.000270</td>\n",
       "      <td>-9.670260</td>\n",
       "      <td>0.033620</td>\n",
       "      <td>0.193790</td>\n",
       "      <td>0</td>\n",
       "      <td>0</td>\n",
       "      <td>0</td>\n",
       "    </tr>\n",
       "    <tr>\n",
       "      <th>3</th>\n",
       "      <td>0.000405</td>\n",
       "      <td>-9.673356</td>\n",
       "      <td>0.035159</td>\n",
       "      <td>0.184369</td>\n",
       "      <td>0</td>\n",
       "      <td>0</td>\n",
       "      <td>0</td>\n",
       "    </tr>\n",
       "    <tr>\n",
       "      <th>4</th>\n",
       "      <td>0.000541</td>\n",
       "      <td>-9.671458</td>\n",
       "      <td>0.043913</td>\n",
       "      <td>0.197814</td>\n",
       "      <td>0</td>\n",
       "      <td>0</td>\n",
       "      <td>0</td>\n",
       "    </tr>\n",
       "    <tr>\n",
       "      <th>...</th>\n",
       "      <td>...</td>\n",
       "      <td>...</td>\n",
       "      <td>...</td>\n",
       "      <td>...</td>\n",
       "      <td>...</td>\n",
       "      <td>...</td>\n",
       "      <td>...</td>\n",
       "    </tr>\n",
       "    <tr>\n",
       "      <th>5153</th>\n",
       "      <td>0.999224</td>\n",
       "      <td>-9.915920</td>\n",
       "      <td>-0.105897</td>\n",
       "      <td>-1.123455</td>\n",
       "      <td>0</td>\n",
       "      <td>0</td>\n",
       "      <td>0</td>\n",
       "    </tr>\n",
       "    <tr>\n",
       "      <th>5154</th>\n",
       "      <td>0.999418</td>\n",
       "      <td>-9.693752</td>\n",
       "      <td>-0.066892</td>\n",
       "      <td>-1.114903</td>\n",
       "      <td>0</td>\n",
       "      <td>0</td>\n",
       "      <td>0</td>\n",
       "    </tr>\n",
       "    <tr>\n",
       "      <th>5155</th>\n",
       "      <td>0.999612</td>\n",
       "      <td>-9.548118</td>\n",
       "      <td>-0.098315</td>\n",
       "      <td>-1.112123</td>\n",
       "      <td>0</td>\n",
       "      <td>0</td>\n",
       "      <td>0</td>\n",
       "    </tr>\n",
       "    <tr>\n",
       "      <th>5156</th>\n",
       "      <td>0.999806</td>\n",
       "      <td>-9.469803</td>\n",
       "      <td>-0.111004</td>\n",
       "      <td>-1.130814</td>\n",
       "      <td>0</td>\n",
       "      <td>0</td>\n",
       "      <td>0</td>\n",
       "    </tr>\n",
       "    <tr>\n",
       "      <th>5157</th>\n",
       "      <td>1.000000</td>\n",
       "      <td>-9.566318</td>\n",
       "      <td>-0.113865</td>\n",
       "      <td>-1.103353</td>\n",
       "      <td>0</td>\n",
       "      <td>0</td>\n",
       "      <td>0</td>\n",
       "    </tr>\n",
       "  </tbody>\n",
       "</table>\n",
       "<p>7062672 rows × 7 columns</p>\n",
       "</div>"
      ],
      "text/plain": [
       "          Time      AccV     AccML     AccAP  StartHesitation  Turn  Walking\n",
       "0     0.000000 -9.665890  0.042550  0.184744                0     0        0\n",
       "1     0.000135 -9.672969  0.049217  0.184644                0     0        0\n",
       "2     0.000270 -9.670260  0.033620  0.193790                0     0        0\n",
       "3     0.000405 -9.673356  0.035159  0.184369                0     0        0\n",
       "4     0.000541 -9.671458  0.043913  0.197814                0     0        0\n",
       "...        ...       ...       ...       ...              ...   ...      ...\n",
       "5153  0.999224 -9.915920 -0.105897 -1.123455                0     0        0\n",
       "5154  0.999418 -9.693752 -0.066892 -1.114903                0     0        0\n",
       "5155  0.999612 -9.548118 -0.098315 -1.112123                0     0        0\n",
       "5156  0.999806 -9.469803 -0.111004 -1.130814                0     0        0\n",
       "5157  1.000000 -9.566318 -0.113865 -1.103353                0     0        0\n",
       "\n",
       "[7062672 rows x 7 columns]"
      ]
     },
     "execution_count": 14,
     "metadata": {},
     "output_type": "execute_result"
    }
   ],
   "source": [
    "# Set the directory path to the folder containing the CSV files.\n",
    "tdcsfog_path = '/kaggle/input/tlvmc-parkinsons-freezing-gait-prediction/train/tdcsfog'\n",
    "\n",
    "# Initialize an empty list to store the dataframes.\n",
    "tdcsfog_list = []\n",
    "\n",
    "# Loop through each file in the directory and read it into a dataframe.\n",
    "for file_name in os.listdir(tdcsfog_path):\n",
    "    if file_name.endswith('.csv'):\n",
    "        file_path = os.path.join(tdcsfog_path, file_name)\n",
    "        file = pd.read_csv(file_path)\n",
    "        file.Time = file.Time / (len(file) - 1)\n",
    "        tdcsfog_list.append(file)\n",
    "\n",
    "# Concatenate the dataframes vertically using pd.concat().\n",
    "tdcsfog = pd.concat(tdcsfog_list, axis = 0)\n",
    "\n",
    "# Show the concatenated dataframe.\n",
    "tdcsfog"
   ]
  },
  {
   "cell_type": "markdown",
   "id": "f8c2f3f5",
   "metadata": {
    "papermill": {
     "duration": 0.02607,
     "end_time": "2023-05-22T11:03:24.624042",
     "exception": false,
     "start_time": "2023-05-22T11:03:24.597972",
     "status": "completed"
    },
    "tags": []
   },
   "source": [
    "It is better to reduce the memory usage. Reference: [Reducing DataFrame memory size by ~65%](https://www.kaggle.com/code/arjanso/reducing-dataframe-memory-size-by-65)"
   ]
  },
  {
   "cell_type": "code",
   "execution_count": 15,
   "id": "719a53c7",
   "metadata": {
    "execution": {
     "iopub.execute_input": "2023-05-22T11:03:24.680058Z",
     "iopub.status.busy": "2023-05-22T11:03:24.679690Z",
     "iopub.status.idle": "2023-05-22T11:03:24.694393Z",
     "shell.execute_reply": "2023-05-22T11:03:24.693327Z"
    },
    "papermill": {
     "duration": 0.045787,
     "end_time": "2023-05-22T11:03:24.696810",
     "exception": false,
     "start_time": "2023-05-22T11:03:24.651023",
     "status": "completed"
    },
    "tags": []
   },
   "outputs": [],
   "source": [
    "def reduce_memory_usage(df):\n",
    "    \n",
    "    start_mem = df.memory_usage().sum() / 1024 ** 2\n",
    "    print('Memory usage of dataframe is {:.2f} MB'.format(start_mem))\n",
    "    \n",
    "    for col in df.columns:\n",
    "        col_type = df[col].dtype.name\n",
    "        if ((col_type != 'datetime64[ns]') & (col_type != 'category')):\n",
    "            if (col_type != 'object'):\n",
    "                c_min = df[col].min()\n",
    "                c_max = df[col].max()\n",
    "\n",
    "                if str(col_type)[:3] == 'int':\n",
    "                    if c_min > np.iinfo(np.int8).min and c_max < np.iinfo(np.int8).max:\n",
    "                        df[col] = df[col].astype(np.int8)\n",
    "                    elif c_min > np.iinfo(np.int16).min and c_max < np.iinfo(np.int16).max:\n",
    "                        df[col] = df[col].astype(np.int16)\n",
    "                    elif c_min > np.iinfo(np.int32).min and c_max < np.iinfo(np.int32).max:\n",
    "                        df[col] = df[col].astype(np.int32)\n",
    "                    elif c_min > np.iinfo(np.int64).min and c_max < np.iinfo(np.int64).max:\n",
    "                        df[col] = df[col].astype(np.int64)\n",
    "\n",
    "                else:\n",
    "                    if c_min > np.finfo(np.float16).min and c_max < np.finfo(np.float16).max:\n",
    "                        df[col] = df[col].astype(np.float16)\n",
    "                    elif c_min > np.finfo(np.float32).min and c_max < np.finfo(np.float32).max:\n",
    "                        df[col] = df[col].astype(np.float32)\n",
    "                    else:\n",
    "                        pass\n",
    "            else:\n",
    "                df[col] = df[col].astype('category')\n",
    "    mem_usg = df.memory_usage().sum() / 1024 ** 2 \n",
    "    print(\"Memory usage became: \",mem_usg,\" MB\")\n",
    "    \n",
    "    return df"
   ]
  },
  {
   "cell_type": "code",
   "execution_count": 16,
   "id": "590124dc",
   "metadata": {
    "execution": {
     "iopub.execute_input": "2023-05-22T11:03:24.752950Z",
     "iopub.status.busy": "2023-05-22T11:03:24.751803Z",
     "iopub.status.idle": "2023-05-22T11:03:25.405124Z",
     "shell.execute_reply": "2023-05-22T11:03:25.403708Z"
    },
    "papermill": {
     "duration": 0.684233,
     "end_time": "2023-05-22T11:03:25.408133",
     "exception": false,
     "start_time": "2023-05-22T11:03:24.723900",
     "status": "completed"
    },
    "tags": []
   },
   "outputs": [
    {
     "name": "stdout",
     "output_type": "stream",
     "text": [
      "Memory usage of dataframe is 431.07 MB\n",
      "Memory usage became:  127.97428894042969  MB\n"
     ]
    }
   ],
   "source": [
    "tdcsfog = reduce_memory_usage(tdcsfog)"
   ]
  },
  {
   "cell_type": "code",
   "execution_count": 17,
   "id": "18c8c9d0",
   "metadata": {
    "execution": {
     "iopub.execute_input": "2023-05-22T11:03:25.468172Z",
     "iopub.status.busy": "2023-05-22T11:03:25.466774Z",
     "iopub.status.idle": "2023-05-22T11:03:28.930775Z",
     "shell.execute_reply": "2023-05-22T11:03:28.929700Z"
    },
    "papermill": {
     "duration": 3.49761,
     "end_time": "2023-05-22T11:03:28.933999",
     "exception": false,
     "start_time": "2023-05-22T11:03:25.436389",
     "status": "completed"
    },
    "tags": []
   },
   "outputs": [
    {
     "data": {
      "text/html": [
       "<div>\n",
       "<style scoped>\n",
       "    .dataframe tbody tr th:only-of-type {\n",
       "        vertical-align: middle;\n",
       "    }\n",
       "\n",
       "    .dataframe tbody tr th {\n",
       "        vertical-align: top;\n",
       "    }\n",
       "\n",
       "    .dataframe thead th {\n",
       "        text-align: right;\n",
       "    }\n",
       "</style>\n",
       "<table border=\"1\" class=\"dataframe\">\n",
       "  <thead>\n",
       "    <tr style=\"text-align: right;\">\n",
       "      <th></th>\n",
       "      <th>Time</th>\n",
       "      <th>AccV</th>\n",
       "      <th>AccML</th>\n",
       "      <th>AccAP</th>\n",
       "      <th>StartHesitation</th>\n",
       "      <th>Turn</th>\n",
       "      <th>Walking</th>\n",
       "    </tr>\n",
       "  </thead>\n",
       "  <tbody>\n",
       "    <tr>\n",
       "      <th>count</th>\n",
       "      <td>7062672.00</td>\n",
       "      <td>7.062672e+06</td>\n",
       "      <td>7.062672e+06</td>\n",
       "      <td>7.062672e+06</td>\n",
       "      <td>7.062672e+06</td>\n",
       "      <td>7.062672e+06</td>\n",
       "      <td>7.062672e+06</td>\n",
       "    </tr>\n",
       "    <tr>\n",
       "      <th>mean</th>\n",
       "      <td>NaN</td>\n",
       "      <td>NaN</td>\n",
       "      <td>NaN</td>\n",
       "      <td>NaN</td>\n",
       "      <td>4.315506e-02</td>\n",
       "      <td>2.376979e-01</td>\n",
       "      <td>2.942767e-02</td>\n",
       "    </tr>\n",
       "    <tr>\n",
       "      <th>std</th>\n",
       "      <td>0.00</td>\n",
       "      <td>0.000000e+00</td>\n",
       "      <td>0.000000e+00</td>\n",
       "      <td>0.000000e+00</td>\n",
       "      <td>2.032061e-01</td>\n",
       "      <td>4.256731e-01</td>\n",
       "      <td>1.690020e-01</td>\n",
       "    </tr>\n",
       "    <tr>\n",
       "      <th>min</th>\n",
       "      <td>0.00</td>\n",
       "      <td>-3.553125e+01</td>\n",
       "      <td>-2.617188e+01</td>\n",
       "      <td>-4.784375e+01</td>\n",
       "      <td>0.000000e+00</td>\n",
       "      <td>0.000000e+00</td>\n",
       "      <td>0.000000e+00</td>\n",
       "    </tr>\n",
       "    <tr>\n",
       "      <th>25%</th>\n",
       "      <td>0.25</td>\n",
       "      <td>-9.765625e+00</td>\n",
       "      <td>-9.296875e-01</td>\n",
       "      <td>5.673828e-01</td>\n",
       "      <td>0.000000e+00</td>\n",
       "      <td>0.000000e+00</td>\n",
       "      <td>0.000000e+00</td>\n",
       "    </tr>\n",
       "    <tr>\n",
       "      <th>50%</th>\n",
       "      <td>0.50</td>\n",
       "      <td>-9.367188e+00</td>\n",
       "      <td>-1.722412e-01</td>\n",
       "      <td>1.987305e+00</td>\n",
       "      <td>0.000000e+00</td>\n",
       "      <td>0.000000e+00</td>\n",
       "      <td>0.000000e+00</td>\n",
       "    </tr>\n",
       "    <tr>\n",
       "      <th>75%</th>\n",
       "      <td>0.75</td>\n",
       "      <td>-8.773438e+00</td>\n",
       "      <td>5.751953e-01</td>\n",
       "      <td>3.449219e+00</td>\n",
       "      <td>0.000000e+00</td>\n",
       "      <td>0.000000e+00</td>\n",
       "      <td>0.000000e+00</td>\n",
       "    </tr>\n",
       "    <tr>\n",
       "      <th>max</th>\n",
       "      <td>1.00</td>\n",
       "      <td>2.090625e+01</td>\n",
       "      <td>2.748438e+01</td>\n",
       "      <td>3.034375e+01</td>\n",
       "      <td>1.000000e+00</td>\n",
       "      <td>1.000000e+00</td>\n",
       "      <td>1.000000e+00</td>\n",
       "    </tr>\n",
       "  </tbody>\n",
       "</table>\n",
       "</div>"
      ],
      "text/plain": [
       "             Time          AccV         AccML         AccAP  StartHesitation  \\\n",
       "count  7062672.00  7.062672e+06  7.062672e+06  7.062672e+06     7.062672e+06   \n",
       "mean          NaN           NaN           NaN           NaN     4.315506e-02   \n",
       "std          0.00  0.000000e+00  0.000000e+00  0.000000e+00     2.032061e-01   \n",
       "min          0.00 -3.553125e+01 -2.617188e+01 -4.784375e+01     0.000000e+00   \n",
       "25%          0.25 -9.765625e+00 -9.296875e-01  5.673828e-01     0.000000e+00   \n",
       "50%          0.50 -9.367188e+00 -1.722412e-01  1.987305e+00     0.000000e+00   \n",
       "75%          0.75 -8.773438e+00  5.751953e-01  3.449219e+00     0.000000e+00   \n",
       "max          1.00  2.090625e+01  2.748438e+01  3.034375e+01     1.000000e+00   \n",
       "\n",
       "               Turn       Walking  \n",
       "count  7.062672e+06  7.062672e+06  \n",
       "mean   2.376979e-01  2.942767e-02  \n",
       "std    4.256731e-01  1.690020e-01  \n",
       "min    0.000000e+00  0.000000e+00  \n",
       "25%    0.000000e+00  0.000000e+00  \n",
       "50%    0.000000e+00  0.000000e+00  \n",
       "75%    0.000000e+00  0.000000e+00  \n",
       "max    1.000000e+00  1.000000e+00  "
      ]
     },
     "execution_count": 17,
     "metadata": {},
     "output_type": "execute_result"
    }
   ],
   "source": [
    "tdcsfog.describe()"
   ]
  },
  {
   "cell_type": "code",
   "execution_count": 18,
   "id": "66e46a2a",
   "metadata": {
    "execution": {
     "iopub.execute_input": "2023-05-22T11:03:28.991117Z",
     "iopub.status.busy": "2023-05-22T11:03:28.990252Z",
     "iopub.status.idle": "2023-05-22T11:03:29.002986Z",
     "shell.execute_reply": "2023-05-22T11:03:29.001830Z"
    },
    "papermill": {
     "duration": 0.043882,
     "end_time": "2023-05-22T11:03:29.005485",
     "exception": false,
     "start_time": "2023-05-22T11:03:28.961603",
     "status": "completed"
    },
    "tags": []
   },
   "outputs": [
    {
     "data": {
      "text/plain": [
       "0.0431550551972398"
      ]
     },
     "execution_count": 18,
     "metadata": {},
     "output_type": "execute_result"
    }
   ],
   "source": [
    "tdcsfog['StartHesitation'].mean()"
   ]
  },
  {
   "cell_type": "code",
   "execution_count": 19,
   "id": "a3a60c59",
   "metadata": {
    "execution": {
     "iopub.execute_input": "2023-05-22T11:03:29.062388Z",
     "iopub.status.busy": "2023-05-22T11:03:29.061961Z",
     "iopub.status.idle": "2023-05-22T11:03:29.074641Z",
     "shell.execute_reply": "2023-05-22T11:03:29.073693Z"
    },
    "papermill": {
     "duration": 0.044011,
     "end_time": "2023-05-22T11:03:29.077149",
     "exception": false,
     "start_time": "2023-05-22T11:03:29.033138",
     "status": "completed"
    },
    "tags": []
   },
   "outputs": [
    {
     "data": {
      "text/plain": [
       "0.23769785712829367"
      ]
     },
     "execution_count": 19,
     "metadata": {},
     "output_type": "execute_result"
    }
   ],
   "source": [
    "tdcsfog['Turn'].mean()"
   ]
  },
  {
   "cell_type": "code",
   "execution_count": 20,
   "id": "7669741a",
   "metadata": {
    "execution": {
     "iopub.execute_input": "2023-05-22T11:03:29.133500Z",
     "iopub.status.busy": "2023-05-22T11:03:29.133070Z",
     "iopub.status.idle": "2023-05-22T11:03:29.146242Z",
     "shell.execute_reply": "2023-05-22T11:03:29.145169Z"
    },
    "papermill": {
     "duration": 0.044217,
     "end_time": "2023-05-22T11:03:29.148670",
     "exception": false,
     "start_time": "2023-05-22T11:03:29.104453",
     "status": "completed"
    },
    "tags": []
   },
   "outputs": [
    {
     "data": {
      "text/plain": [
       "0.029427672699510892"
      ]
     },
     "execution_count": 20,
     "metadata": {},
     "output_type": "execute_result"
    }
   ],
   "source": [
    "tdcsfog['Walking'].mean()"
   ]
  },
  {
   "cell_type": "code",
   "execution_count": 21,
   "id": "784a8099",
   "metadata": {
    "execution": {
     "iopub.execute_input": "2023-05-22T11:03:29.205679Z",
     "iopub.status.busy": "2023-05-22T11:03:29.205235Z",
     "iopub.status.idle": "2023-05-22T11:03:29.211539Z",
     "shell.execute_reply": "2023-05-22T11:03:29.210724Z"
    },
    "papermill": {
     "duration": 0.037467,
     "end_time": "2023-05-22T11:03:29.213595",
     "exception": false,
     "start_time": "2023-05-22T11:03:29.176128",
     "status": "completed"
    },
    "tags": []
   },
   "outputs": [
    {
     "data": {
      "text/plain": [
       "7062672"
      ]
     },
     "execution_count": 21,
     "metadata": {},
     "output_type": "execute_result"
    }
   ],
   "source": [
    "len(tdcsfog)"
   ]
  },
  {
   "cell_type": "code",
   "execution_count": 22,
   "id": "577cecb7",
   "metadata": {
    "execution": {
     "iopub.execute_input": "2023-05-22T11:03:29.270944Z",
     "iopub.status.busy": "2023-05-22T11:03:29.270553Z",
     "iopub.status.idle": "2023-05-22T11:03:43.735266Z",
     "shell.execute_reply": "2023-05-22T11:03:43.734124Z"
    },
    "papermill": {
     "duration": 14.496142,
     "end_time": "2023-05-22T11:03:43.737875",
     "exception": false,
     "start_time": "2023-05-22T11:03:29.241733",
     "status": "completed"
    },
    "tags": []
   },
   "outputs": [
    {
     "data": {
      "text/plain": [
       "<AxesSubplot: xlabel='The Number of 1', ylabel='count'>"
      ]
     },
     "execution_count": 22,
     "metadata": {},
     "output_type": "execute_result"
    },
    {
     "data": {
      "image/png": "[encoded data removed]",
      "text/plain": [
       "<Figure size 640x480 with 1 Axes>"
      ]
     },
     "metadata": {},
     "output_type": "display_data"
    }
   ],
   "source": [
    "# Show the numbers by graph.\n",
    "data = pd.DataFrame(\n",
    "    np.concatenate([\n",
    "        ['Total'] * len(tdcsfog),\n",
    "        ['StartHesitation'] * int(np.ceil(len(tdcsfog) / 2 * tdcsfog['StartHesitation'].mean())),\n",
    "        ['Turn'] * int(np.ceil(len(tdcsfog) / 2 * tdcsfog['Turn'].mean())),\n",
    "        ['Walking'] * int(np.ceil(len(tdcsfog) / 2 * tdcsfog['Walking'].mean()))\n",
    "    ]),\n",
    "    columns = [\"The Number of 1\"]\n",
    ")\n",
    "\n",
    "sns.countplot(x = 'The Number of 1', data = data)"
   ]
  },
  {
   "cell_type": "markdown",
   "id": "c8b2591f",
   "metadata": {
    "papermill": {
     "duration": 0.028783,
     "end_time": "2023-05-22T11:03:43.795147",
     "exception": false,
     "start_time": "2023-05-22T11:03:43.766364",
     "status": "completed"
    },
    "tags": []
   },
   "source": [
    "**Most of the target variables are 0.**"
   ]
  },
  {
   "cell_type": "code",
   "execution_count": 23,
   "id": "11d80731",
   "metadata": {
    "execution": {
     "iopub.execute_input": "2023-05-22T11:03:43.857553Z",
     "iopub.status.busy": "2023-05-22T11:03:43.857145Z",
     "iopub.status.idle": "2023-05-22T11:07:11.726106Z",
     "shell.execute_reply": "2023-05-22T11:07:11.724419Z"
    },
    "papermill": {
     "duration": 207.937545,
     "end_time": "2023-05-22T11:07:11.763208",
     "exception": false,
     "start_time": "2023-05-22T11:03:43.825663",
     "status": "completed"
    },
    "tags": []
   },
   "outputs": [
    {
     "data": {
      "text/plain": [
       "<seaborn.axisgrid.PairGrid at 0x7ce5f32e15d0>"
      ]
     },
     "execution_count": 23,
     "metadata": {},
     "output_type": "execute_result"
    },
    {
     "data": {
      "image/png": "[encoded data removed]",
      "text/plain": [
       "<Figure size 750x750 with 12 Axes>"
      ]
     },
     "metadata": {},
     "output_type": "display_data"
    }
   ],
   "source": [
    "# Visualize \"AccV\", \"AccML\", and \"AccAP.\"\n",
    "sns.pairplot(tdcsfog[['AccV', 'AccML', 'AccAP']])"
   ]
  },
  {
   "cell_type": "markdown",
   "id": "4ea5a22a",
   "metadata": {
    "papermill": {
     "duration": 0.032202,
     "end_time": "2023-05-22T11:07:11.827944",
     "exception": false,
     "start_time": "2023-05-22T11:07:11.795742",
     "status": "completed"
    },
    "tags": []
   },
   "source": [
    "# The Relationship between Time and the 3 Events\n",
    "\n",
    "We should analyze **to what extent the \"Time\" is relevant to occurrence of \"StartHesitation\", \"Turn\", and \"Walking,\" respectively**.  Thus, we make a figure to show the relationships between \"Time\" (x-axis) and \"StartHesitation\", \"Turn\", and \"Walking\" (y-axis)."
   ]
  },
  {
   "cell_type": "code",
   "execution_count": 24,
   "id": "3ab06055",
   "metadata": {
    "execution": {
     "iopub.execute_input": "2023-05-22T11:07:11.898681Z",
     "iopub.status.busy": "2023-05-22T11:07:11.898111Z",
     "iopub.status.idle": "2023-05-22T11:08:22.739061Z",
     "shell.execute_reply": "2023-05-22T11:08:22.737842Z"
    },
    "papermill": {
     "duration": 70.913002,
     "end_time": "2023-05-22T11:08:22.773987",
     "exception": false,
     "start_time": "2023-05-22T11:07:11.860985",
     "status": "completed"
    },
    "tags": []
   },
   "outputs": [
    {
     "name": "stderr",
     "output_type": "stream",
     "text": [
      "/opt/conda/lib/python3.10/site-packages/IPython/core/pylabtools.py:152: UserWarning: Creating legend with loc=\"best\" can be slow with large amounts of data.\n",
      "  fig.canvas.print_figure(bytes_io, **kw)\n"
     ]
    },
    {
     "data": {
      "image/png": "[encoded data removed]",
      "text/plain": [
       "<Figure size 1000x600 with 1 Axes>"
      ]
     },
     "metadata": {},
     "output_type": "display_data"
    }
   ],
   "source": [
    "# Create a figure and axis object.\n",
    "fig, ax = plt.subplots(figsize = (10, 6))\n",
    "\n",
    "# Plot the StartHesitation, Turn, and Walking columns against Time.\n",
    "ax.plot(tdcsfog['Time'], tdcsfog['StartHesitation'], label = 'StartHesitation')\n",
    "ax.plot(tdcsfog['Time'], tdcsfog['Turn'], label = 'Turn')\n",
    "ax.plot(tdcsfog['Time'], tdcsfog['Walking'], label = 'Walking')\n",
    "\n",
    "# Add axis labels and title.\n",
    "ax.set_xlabel('Time')\n",
    "ax.set_ylabel('Binary Status')\n",
    "ax.set_title('Relationship between Time and Movement Status')\n",
    "\n",
    "# Add a legend to the plot.\n",
    "ax.legend()\n",
    "\n",
    "# Show the plot.\n",
    "plt.show()"
   ]
  },
  {
   "cell_type": "markdown",
   "id": "4c0185e5",
   "metadata": {
    "papermill": {
     "duration": 0.031565,
     "end_time": "2023-05-22T11:08:22.837461",
     "exception": false,
     "start_time": "2023-05-22T11:08:22.805896",
     "status": "completed"
    },
    "tags": []
   },
   "source": [
    "Unfortunately, this figure above does not clearly show the relationships.\n",
    "\n",
    "We create a line plot by **taking the means of the three values by time**. This code groups the tdcsfog dataframe by the \"Time\" column, takes the mean of the other columns for each group, and then resets the index to a sequential integer index. This code creates a figure with the mean values of \"StartHesitation\", \"Turn\", and \"Walking\" on the y-axis and \"Time\" on the x-axis. The rest of the code is the same as before."
   ]
  },
  {
   "cell_type": "code",
   "execution_count": 25,
   "id": "a56dfa5f",
   "metadata": {
    "execution": {
     "iopub.execute_input": "2023-05-22T11:08:22.903871Z",
     "iopub.status.busy": "2023-05-22T11:08:22.903435Z",
     "iopub.status.idle": "2023-05-22T11:08:23.778373Z",
     "shell.execute_reply": "2023-05-22T11:08:23.777222Z"
    },
    "papermill": {
     "duration": 0.911386,
     "end_time": "2023-05-22T11:08:23.781068",
     "exception": false,
     "start_time": "2023-05-22T11:08:22.869682",
     "status": "completed"
    },
    "tags": []
   },
   "outputs": [
    {
     "data": {
      "image/png": "[encoded data removed]",
      "text/plain": [
       "<Figure size 1200x600 with 1 Axes>"
      ]
     },
     "metadata": {},
     "output_type": "display_data"
    }
   ],
   "source": [
    "# Set the figure size.\n",
    "plt.figure(figsize = (12,6))\n",
    "\n",
    "# Calculates the mean values of all other columns for each unique value of Time.\n",
    "# Reset the index of the resulting dataframe.\n",
    "tdcsfog_means = tdcsfog.groupby('Time').mean().reset_index()\n",
    "\n",
    "# Plot the mean StartHesitation values over time.\n",
    "plt.plot(tdcsfog_means['Time'], tdcsfog_means['StartHesitation'], label = 'StartHesitation')\n",
    "\n",
    "# Plot the mean Turn values over time.\n",
    "plt.plot(tdcsfog_means['Time'], tdcsfog_means['Turn'], label = 'Turn')\n",
    "\n",
    "# Plot the mean Walking values over time.\n",
    "plt.plot(tdcsfog_means['Time'], tdcsfog_means['Walking'], label = 'Walking')\n",
    "\n",
    "# Add a legend to the plot.\n",
    "plt.legend()\n",
    "\n",
    "# Set the x-label of the plot.\n",
    "plt.xlabel('Time')\n",
    "\n",
    "# Set the y-label of the plot.\n",
    "plt.ylabel('Mean Value')\n",
    "\n",
    "# Set the title of the plot.\n",
    "plt.title('Mean Values of StartHesitation, Turn, and Walking over Time')\n",
    "\n",
    "# Display the plot.\n",
    "plt.show()"
   ]
  },
  {
   "cell_type": "markdown",
   "id": "2c2d30da",
   "metadata": {
    "papermill": {
     "duration": 0.034142,
     "end_time": "2023-05-22T11:08:23.848758",
     "exception": false,
     "start_time": "2023-05-22T11:08:23.814616",
     "status": "completed"
    },
    "tags": []
   },
   "source": [
    "There may be some relationship between \"Time\" and the 3 Events. Particularly, **\"StartHesitation\" was more likely to occur at specific times**. **Positive correlation may exist between \"Time\" and \"Walking.\"** However, **the relationship is a bit irregular**. It is not clear whether a prediction model had better include \"Time\" as an independent variable.\n",
    "\n",
    "For the moment, we create **a model with \"AccV\", \"AccML\", and \"AccAP,\" including \"Time\" to predict \"StartHesitation\", \"Turn\", and \"Walking,\" respectively**."
   ]
  },
  {
   "cell_type": "markdown",
   "id": "56bdedaa",
   "metadata": {
    "papermill": {
     "duration": 0.033217,
     "end_time": "2023-05-22T11:08:23.915398",
     "exception": false,
     "start_time": "2023-05-22T11:08:23.882181",
     "status": "completed"
    },
    "tags": []
   },
   "source": [
    "## Take All the CSV Files in the Train defog Folder"
   ]
  },
  {
   "cell_type": "code",
   "execution_count": 26,
   "id": "3ae299a2",
   "metadata": {
    "execution": {
     "iopub.execute_input": "2023-05-22T11:08:23.983960Z",
     "iopub.status.busy": "2023-05-22T11:08:23.983581Z",
     "iopub.status.idle": "2023-05-22T11:08:51.553992Z",
     "shell.execute_reply": "2023-05-22T11:08:51.552543Z"
    },
    "papermill": {
     "duration": 27.607957,
     "end_time": "2023-05-22T11:08:51.556900",
     "exception": false,
     "start_time": "2023-05-22T11:08:23.948943",
     "status": "completed"
    },
    "tags": []
   },
   "outputs": [
    {
     "data": {
      "text/html": [
       "<div>\n",
       "<style scoped>\n",
       "    .dataframe tbody tr th:only-of-type {\n",
       "        vertical-align: middle;\n",
       "    }\n",
       "\n",
       "    .dataframe tbody tr th {\n",
       "        vertical-align: top;\n",
       "    }\n",
       "\n",
       "    .dataframe thead th {\n",
       "        text-align: right;\n",
       "    }\n",
       "</style>\n",
       "<table border=\"1\" class=\"dataframe\">\n",
       "  <thead>\n",
       "    <tr style=\"text-align: right;\">\n",
       "      <th></th>\n",
       "      <th>Time</th>\n",
       "      <th>AccV</th>\n",
       "      <th>AccML</th>\n",
       "      <th>AccAP</th>\n",
       "      <th>StartHesitation</th>\n",
       "      <th>Turn</th>\n",
       "      <th>Walking</th>\n",
       "      <th>Valid</th>\n",
       "      <th>Task</th>\n",
       "    </tr>\n",
       "  </thead>\n",
       "  <tbody>\n",
       "    <tr>\n",
       "      <th>0</th>\n",
       "      <td>0.000000</td>\n",
       "      <td>-1.002697</td>\n",
       "      <td>0.022371</td>\n",
       "      <td>0.068304</td>\n",
       "      <td>0</td>\n",
       "      <td>0</td>\n",
       "      <td>0</td>\n",
       "      <td>False</td>\n",
       "      <td>False</td>\n",
       "    </tr>\n",
       "    <tr>\n",
       "      <th>1</th>\n",
       "      <td>0.000008</td>\n",
       "      <td>-1.002641</td>\n",
       "      <td>0.019173</td>\n",
       "      <td>0.066162</td>\n",
       "      <td>0</td>\n",
       "      <td>0</td>\n",
       "      <td>0</td>\n",
       "      <td>False</td>\n",
       "      <td>False</td>\n",
       "    </tr>\n",
       "    <tr>\n",
       "      <th>2</th>\n",
       "      <td>0.000017</td>\n",
       "      <td>-0.999820</td>\n",
       "      <td>0.019142</td>\n",
       "      <td>0.067536</td>\n",
       "      <td>0</td>\n",
       "      <td>0</td>\n",
       "      <td>0</td>\n",
       "      <td>False</td>\n",
       "      <td>False</td>\n",
       "    </tr>\n",
       "    <tr>\n",
       "      <th>3</th>\n",
       "      <td>0.000025</td>\n",
       "      <td>-0.998023</td>\n",
       "      <td>0.018378</td>\n",
       "      <td>0.068409</td>\n",
       "      <td>0</td>\n",
       "      <td>0</td>\n",
       "      <td>0</td>\n",
       "      <td>False</td>\n",
       "      <td>False</td>\n",
       "    </tr>\n",
       "    <tr>\n",
       "      <th>4</th>\n",
       "      <td>0.000034</td>\n",
       "      <td>-0.998359</td>\n",
       "      <td>0.016726</td>\n",
       "      <td>0.066448</td>\n",
       "      <td>0</td>\n",
       "      <td>0</td>\n",
       "      <td>0</td>\n",
       "      <td>False</td>\n",
       "      <td>False</td>\n",
       "    </tr>\n",
       "    <tr>\n",
       "      <th>...</th>\n",
       "      <td>...</td>\n",
       "      <td>...</td>\n",
       "      <td>...</td>\n",
       "      <td>...</td>\n",
       "      <td>...</td>\n",
       "      <td>...</td>\n",
       "      <td>...</td>\n",
       "      <td>...</td>\n",
       "      <td>...</td>\n",
       "    </tr>\n",
       "    <tr>\n",
       "      <th>109120</th>\n",
       "      <td>0.999963</td>\n",
       "      <td>-0.939241</td>\n",
       "      <td>0.031564</td>\n",
       "      <td>-0.394737</td>\n",
       "      <td>0</td>\n",
       "      <td>0</td>\n",
       "      <td>0</td>\n",
       "      <td>False</td>\n",
       "      <td>False</td>\n",
       "    </tr>\n",
       "    <tr>\n",
       "      <th>109121</th>\n",
       "      <td>0.999973</td>\n",
       "      <td>-0.941096</td>\n",
       "      <td>0.031582</td>\n",
       "      <td>-0.392626</td>\n",
       "      <td>0</td>\n",
       "      <td>0</td>\n",
       "      <td>0</td>\n",
       "      <td>False</td>\n",
       "      <td>False</td>\n",
       "    </tr>\n",
       "    <tr>\n",
       "      <th>109122</th>\n",
       "      <td>0.999982</td>\n",
       "      <td>-0.940131</td>\n",
       "      <td>0.029092</td>\n",
       "      <td>-0.394385</td>\n",
       "      <td>0</td>\n",
       "      <td>0</td>\n",
       "      <td>0</td>\n",
       "      <td>False</td>\n",
       "      <td>False</td>\n",
       "    </tr>\n",
       "    <tr>\n",
       "      <th>109123</th>\n",
       "      <td>0.999991</td>\n",
       "      <td>-0.939872</td>\n",
       "      <td>0.028058</td>\n",
       "      <td>-0.398664</td>\n",
       "      <td>0</td>\n",
       "      <td>0</td>\n",
       "      <td>0</td>\n",
       "      <td>False</td>\n",
       "      <td>False</td>\n",
       "    </tr>\n",
       "    <tr>\n",
       "      <th>109124</th>\n",
       "      <td>1.000000</td>\n",
       "      <td>-0.939006</td>\n",
       "      <td>0.026628</td>\n",
       "      <td>-0.398454</td>\n",
       "      <td>0</td>\n",
       "      <td>0</td>\n",
       "      <td>0</td>\n",
       "      <td>False</td>\n",
       "      <td>False</td>\n",
       "    </tr>\n",
       "  </tbody>\n",
       "</table>\n",
       "<p>13525702 rows × 9 columns</p>\n",
       "</div>"
      ],
      "text/plain": [
       "            Time      AccV     AccML     AccAP  StartHesitation  Turn  \\\n",
       "0       0.000000 -1.002697  0.022371  0.068304                0     0   \n",
       "1       0.000008 -1.002641  0.019173  0.066162                0     0   \n",
       "2       0.000017 -0.999820  0.019142  0.067536                0     0   \n",
       "3       0.000025 -0.998023  0.018378  0.068409                0     0   \n",
       "4       0.000034 -0.998359  0.016726  0.066448                0     0   \n",
       "...          ...       ...       ...       ...              ...   ...   \n",
       "109120  0.999963 -0.939241  0.031564 -0.394737                0     0   \n",
       "109121  0.999973 -0.941096  0.031582 -0.392626                0     0   \n",
       "109122  0.999982 -0.940131  0.029092 -0.394385                0     0   \n",
       "109123  0.999991 -0.939872  0.028058 -0.398664                0     0   \n",
       "109124  1.000000 -0.939006  0.026628 -0.398454                0     0   \n",
       "\n",
       "        Walking  Valid   Task  \n",
       "0             0  False  False  \n",
       "1             0  False  False  \n",
       "2             0  False  False  \n",
       "3             0  False  False  \n",
       "4             0  False  False  \n",
       "...         ...    ...    ...  \n",
       "109120        0  False  False  \n",
       "109121        0  False  False  \n",
       "109122        0  False  False  \n",
       "109123        0  False  False  \n",
       "109124        0  False  False  \n",
       "\n",
       "[13525702 rows x 9 columns]"
      ]
     },
     "execution_count": 26,
     "metadata": {},
     "output_type": "execute_result"
    }
   ],
   "source": [
    "# Set the directory path to the folder containing the CSV files.\n",
    "defog_path = '/kaggle/input/tlvmc-parkinsons-freezing-gait-prediction/train/defog'\n",
    "\n",
    "# Initialize an empty list to store the dataframes.\n",
    "defog_list = []\n",
    "\n",
    "# Loop through each file in the directory and read it into a dataframe.\n",
    "for file_name in os.listdir(defog_path):\n",
    "    if file_name.endswith('.csv'):\n",
    "        file_path = os.path.join(defog_path, file_name)\n",
    "        file = pd.read_csv(file_path)\n",
    "        file.Time = file.Time / (len(file) - 1)\n",
    "        defog_list.append(file)\n",
    "\n",
    "# Concatenate the dataframes vertically using pd.concat().\n",
    "defog = pd.concat(defog_list, axis = 0)\n",
    "\n",
    "# Show the concatenated dataframe.\n",
    "defog"
   ]
  },
  {
   "cell_type": "code",
   "execution_count": 27,
   "id": "8b651b33",
   "metadata": {
    "execution": {
     "iopub.execute_input": "2023-05-22T11:08:51.629949Z",
     "iopub.status.busy": "2023-05-22T11:08:51.629499Z",
     "iopub.status.idle": "2023-05-22T11:08:52.869984Z",
     "shell.execute_reply": "2023-05-22T11:08:52.868599Z"
    },
    "papermill": {
     "duration": 1.280516,
     "end_time": "2023-05-22T11:08:52.872514",
     "exception": false,
     "start_time": "2023-05-22T11:08:51.591998",
     "status": "completed"
    },
    "tags": []
   },
   "outputs": [
    {
     "name": "stdout",
     "output_type": "stream",
     "text": [
      "Memory usage of dataframe is 851.34 MB\n",
      "Memory usage became:  296.6796360015869  MB\n"
     ]
    }
   ],
   "source": [
    "defog = reduce_memory_usage(defog)"
   ]
  },
  {
   "cell_type": "markdown",
   "id": "0b6e42a8",
   "metadata": {
    "papermill": {
     "duration": 0.03414,
     "end_time": "2023-05-22T11:08:52.941306",
     "exception": false,
     "start_time": "2023-05-22T11:08:52.907166",
     "status": "completed"
    },
    "tags": []
   },
   "source": [
    "**We are going to use valid data only.**"
   ]
  },
  {
   "cell_type": "code",
   "execution_count": 28,
   "id": "2acd4f6c",
   "metadata": {
    "execution": {
     "iopub.execute_input": "2023-05-22T11:08:53.010486Z",
     "iopub.status.busy": "2023-05-22T11:08:53.010057Z",
     "iopub.status.idle": "2023-05-22T11:08:53.624838Z",
     "shell.execute_reply": "2023-05-22T11:08:53.623619Z"
    },
    "papermill": {
     "duration": 0.652594,
     "end_time": "2023-05-22T11:08:53.627626",
     "exception": false,
     "start_time": "2023-05-22T11:08:52.975032",
     "status": "completed"
    },
    "tags": []
   },
   "outputs": [],
   "source": [
    "defog = defog[(defog['Task'] == 1) & (defog['Valid'] == 1)]"
   ]
  },
  {
   "cell_type": "code",
   "execution_count": 29,
   "id": "284175f5",
   "metadata": {
    "execution": {
     "iopub.execute_input": "2023-05-22T11:08:53.698172Z",
     "iopub.status.busy": "2023-05-22T11:08:53.697763Z",
     "iopub.status.idle": "2023-05-22T11:08:53.742750Z",
     "shell.execute_reply": "2023-05-22T11:08:53.741676Z"
    },
    "papermill": {
     "duration": 0.083014,
     "end_time": "2023-05-22T11:08:53.745222",
     "exception": false,
     "start_time": "2023-05-22T11:08:53.662208",
     "status": "completed"
    },
    "tags": []
   },
   "outputs": [],
   "source": [
    "defog = defog.iloc[:, :7]"
   ]
  },
  {
   "cell_type": "code",
   "execution_count": 30,
   "id": "1f6dc517",
   "metadata": {
    "execution": {
     "iopub.execute_input": "2023-05-22T11:08:53.817101Z",
     "iopub.status.busy": "2023-05-22T11:08:53.816718Z",
     "iopub.status.idle": "2023-05-22T11:08:55.783101Z",
     "shell.execute_reply": "2023-05-22T11:08:55.781973Z"
    },
    "papermill": {
     "duration": 2.004917,
     "end_time": "2023-05-22T11:08:55.785697",
     "exception": false,
     "start_time": "2023-05-22T11:08:53.780780",
     "status": "completed"
    },
    "tags": []
   },
   "outputs": [
    {
     "data": {
      "text/html": [
       "<div>\n",
       "<style scoped>\n",
       "    .dataframe tbody tr th:only-of-type {\n",
       "        vertical-align: middle;\n",
       "    }\n",
       "\n",
       "    .dataframe tbody tr th {\n",
       "        vertical-align: top;\n",
       "    }\n",
       "\n",
       "    .dataframe thead th {\n",
       "        text-align: right;\n",
       "    }\n",
       "</style>\n",
       "<table border=\"1\" class=\"dataframe\">\n",
       "  <thead>\n",
       "    <tr style=\"text-align: right;\">\n",
       "      <th></th>\n",
       "      <th>Time</th>\n",
       "      <th>AccV</th>\n",
       "      <th>AccML</th>\n",
       "      <th>AccAP</th>\n",
       "      <th>StartHesitation</th>\n",
       "      <th>Turn</th>\n",
       "      <th>Walking</th>\n",
       "    </tr>\n",
       "  </thead>\n",
       "  <tbody>\n",
       "    <tr>\n",
       "      <th>count</th>\n",
       "      <td>4.090530e+06</td>\n",
       "      <td>4.090530e+06</td>\n",
       "      <td>4.090530e+06</td>\n",
       "      <td>4.090530e+06</td>\n",
       "      <td>4.090530e+06</td>\n",
       "      <td>4.090530e+06</td>\n",
       "      <td>4.090530e+06</td>\n",
       "    </tr>\n",
       "    <tr>\n",
       "      <th>mean</th>\n",
       "      <td>NaN</td>\n",
       "      <td>NaN</td>\n",
       "      <td>-0.000000e+00</td>\n",
       "      <td>NaN</td>\n",
       "      <td>1.222335e-04</td>\n",
       "      <td>1.434604e-01</td>\n",
       "      <td>2.408441e-02</td>\n",
       "    </tr>\n",
       "    <tr>\n",
       "      <th>std</th>\n",
       "      <td>0.000000e+00</td>\n",
       "      <td>0.000000e+00</td>\n",
       "      <td>0.000000e+00</td>\n",
       "      <td>0.000000e+00</td>\n",
       "      <td>1.105525e-02</td>\n",
       "      <td>3.505418e-01</td>\n",
       "      <td>1.533113e-01</td>\n",
       "    </tr>\n",
       "    <tr>\n",
       "      <th>min</th>\n",
       "      <td>2.407074e-03</td>\n",
       "      <td>-6.023438e+00</td>\n",
       "      <td>-2.115234e+00</td>\n",
       "      <td>-5.117188e+00</td>\n",
       "      <td>0.000000e+00</td>\n",
       "      <td>0.000000e+00</td>\n",
       "      <td>0.000000e+00</td>\n",
       "    </tr>\n",
       "    <tr>\n",
       "      <th>25%</th>\n",
       "      <td>2.453613e-01</td>\n",
       "      <td>-9.853516e-01</td>\n",
       "      <td>-8.465576e-02</td>\n",
       "      <td>-3.635254e-01</td>\n",
       "      <td>0.000000e+00</td>\n",
       "      <td>0.000000e+00</td>\n",
       "      <td>0.000000e+00</td>\n",
       "    </tr>\n",
       "    <tr>\n",
       "      <th>50%</th>\n",
       "      <td>5.205078e-01</td>\n",
       "      <td>-9.394531e-01</td>\n",
       "      <td>0.000000e+00</td>\n",
       "      <td>-2.500000e-01</td>\n",
       "      <td>0.000000e+00</td>\n",
       "      <td>0.000000e+00</td>\n",
       "      <td>0.000000e+00</td>\n",
       "    </tr>\n",
       "    <tr>\n",
       "      <th>75%</th>\n",
       "      <td>7.885742e-01</td>\n",
       "      <td>-8.867188e-01</td>\n",
       "      <td>9.246826e-02</td>\n",
       "      <td>-1.132202e-01</td>\n",
       "      <td>0.000000e+00</td>\n",
       "      <td>0.000000e+00</td>\n",
       "      <td>0.000000e+00</td>\n",
       "    </tr>\n",
       "    <tr>\n",
       "      <th>max</th>\n",
       "      <td>9.975586e-01</td>\n",
       "      <td>4.457031e+00</td>\n",
       "      <td>4.523438e+00</td>\n",
       "      <td>4.386719e+00</td>\n",
       "      <td>1.000000e+00</td>\n",
       "      <td>1.000000e+00</td>\n",
       "      <td>1.000000e+00</td>\n",
       "    </tr>\n",
       "  </tbody>\n",
       "</table>\n",
       "</div>"
      ],
      "text/plain": [
       "               Time          AccV         AccML         AccAP  \\\n",
       "count  4.090530e+06  4.090530e+06  4.090530e+06  4.090530e+06   \n",
       "mean            NaN           NaN -0.000000e+00           NaN   \n",
       "std    0.000000e+00  0.000000e+00  0.000000e+00  0.000000e+00   \n",
       "min    2.407074e-03 -6.023438e+00 -2.115234e+00 -5.117188e+00   \n",
       "25%    2.453613e-01 -9.853516e-01 -8.465576e-02 -3.635254e-01   \n",
       "50%    5.205078e-01 -9.394531e-01  0.000000e+00 -2.500000e-01   \n",
       "75%    7.885742e-01 -8.867188e-01  9.246826e-02 -1.132202e-01   \n",
       "max    9.975586e-01  4.457031e+00  4.523438e+00  4.386719e+00   \n",
       "\n",
       "       StartHesitation          Turn       Walking  \n",
       "count     4.090530e+06  4.090530e+06  4.090530e+06  \n",
       "mean      1.222335e-04  1.434604e-01  2.408441e-02  \n",
       "std       1.105525e-02  3.505418e-01  1.533113e-01  \n",
       "min       0.000000e+00  0.000000e+00  0.000000e+00  \n",
       "25%       0.000000e+00  0.000000e+00  0.000000e+00  \n",
       "50%       0.000000e+00  0.000000e+00  0.000000e+00  \n",
       "75%       0.000000e+00  0.000000e+00  0.000000e+00  \n",
       "max       1.000000e+00  1.000000e+00  1.000000e+00  "
      ]
     },
     "execution_count": 30,
     "metadata": {},
     "output_type": "execute_result"
    }
   ],
   "source": [
    "defog.describe()"
   ]
  },
  {
   "cell_type": "markdown",
   "id": "a2e1fc42",
   "metadata": {
    "papermill": {
     "duration": 0.034013,
     "end_time": "2023-05-22T11:08:55.854535",
     "exception": false,
     "start_time": "2023-05-22T11:08:55.820522",
     "status": "completed"
    },
    "tags": []
   },
   "source": [
    "**We merge tdcsfog and defog datasets into one merged dataset.**"
   ]
  },
  {
   "cell_type": "code",
   "execution_count": 31,
   "id": "92f4b060",
   "metadata": {
    "execution": {
     "iopub.execute_input": "2023-05-22T11:08:55.924820Z",
     "iopub.status.busy": "2023-05-22T11:08:55.923699Z",
     "iopub.status.idle": "2023-05-22T11:08:56.019177Z",
     "shell.execute_reply": "2023-05-22T11:08:56.018090Z"
    },
    "papermill": {
     "duration": 0.133298,
     "end_time": "2023-05-22T11:08:56.021797",
     "exception": false,
     "start_time": "2023-05-22T11:08:55.888499",
     "status": "completed"
    },
    "tags": []
   },
   "outputs": [
    {
     "data": {
      "text/html": [
       "<div>\n",
       "<style scoped>\n",
       "    .dataframe tbody tr th:only-of-type {\n",
       "        vertical-align: middle;\n",
       "    }\n",
       "\n",
       "    .dataframe tbody tr th {\n",
       "        vertical-align: top;\n",
       "    }\n",
       "\n",
       "    .dataframe thead th {\n",
       "        text-align: right;\n",
       "    }\n",
       "</style>\n",
       "<table border=\"1\" class=\"dataframe\">\n",
       "  <thead>\n",
       "    <tr style=\"text-align: right;\">\n",
       "      <th></th>\n",
       "      <th>Time</th>\n",
       "      <th>AccV</th>\n",
       "      <th>AccML</th>\n",
       "      <th>AccAP</th>\n",
       "      <th>StartHesitation</th>\n",
       "      <th>Turn</th>\n",
       "      <th>Walking</th>\n",
       "    </tr>\n",
       "  </thead>\n",
       "  <tbody>\n",
       "    <tr>\n",
       "      <th>0</th>\n",
       "      <td>0.000000</td>\n",
       "      <td>-9.664062</td>\n",
       "      <td>0.042542</td>\n",
       "      <td>0.184692</td>\n",
       "      <td>0</td>\n",
       "      <td>0</td>\n",
       "      <td>0</td>\n",
       "    </tr>\n",
       "    <tr>\n",
       "      <th>1</th>\n",
       "      <td>0.000135</td>\n",
       "      <td>-9.671875</td>\n",
       "      <td>0.049225</td>\n",
       "      <td>0.184692</td>\n",
       "      <td>0</td>\n",
       "      <td>0</td>\n",
       "      <td>0</td>\n",
       "    </tr>\n",
       "    <tr>\n",
       "      <th>2</th>\n",
       "      <td>0.000270</td>\n",
       "      <td>-9.671875</td>\n",
       "      <td>0.033630</td>\n",
       "      <td>0.193848</td>\n",
       "      <td>0</td>\n",
       "      <td>0</td>\n",
       "      <td>0</td>\n",
       "    </tr>\n",
       "    <tr>\n",
       "      <th>3</th>\n",
       "      <td>0.000406</td>\n",
       "      <td>-9.671875</td>\n",
       "      <td>0.035156</td>\n",
       "      <td>0.184326</td>\n",
       "      <td>0</td>\n",
       "      <td>0</td>\n",
       "      <td>0</td>\n",
       "    </tr>\n",
       "    <tr>\n",
       "      <th>4</th>\n",
       "      <td>0.000541</td>\n",
       "      <td>-9.671875</td>\n",
       "      <td>0.043915</td>\n",
       "      <td>0.197754</td>\n",
       "      <td>0</td>\n",
       "      <td>0</td>\n",
       "      <td>0</td>\n",
       "    </tr>\n",
       "    <tr>\n",
       "      <th>...</th>\n",
       "      <td>...</td>\n",
       "      <td>...</td>\n",
       "      <td>...</td>\n",
       "      <td>...</td>\n",
       "      <td>...</td>\n",
       "      <td>...</td>\n",
       "      <td>...</td>\n",
       "    </tr>\n",
       "    <tr>\n",
       "      <th>108120</th>\n",
       "      <td>0.990723</td>\n",
       "      <td>-0.979004</td>\n",
       "      <td>0.043121</td>\n",
       "      <td>-0.392822</td>\n",
       "      <td>0</td>\n",
       "      <td>0</td>\n",
       "      <td>0</td>\n",
       "    </tr>\n",
       "    <tr>\n",
       "      <th>108121</th>\n",
       "      <td>0.990723</td>\n",
       "      <td>-0.949219</td>\n",
       "      <td>0.016144</td>\n",
       "      <td>-0.362549</td>\n",
       "      <td>0</td>\n",
       "      <td>0</td>\n",
       "      <td>0</td>\n",
       "    </tr>\n",
       "    <tr>\n",
       "      <th>108122</th>\n",
       "      <td>0.990723</td>\n",
       "      <td>-0.909668</td>\n",
       "      <td>-0.007553</td>\n",
       "      <td>-0.364502</td>\n",
       "      <td>0</td>\n",
       "      <td>0</td>\n",
       "      <td>0</td>\n",
       "    </tr>\n",
       "    <tr>\n",
       "      <th>108123</th>\n",
       "      <td>0.990723</td>\n",
       "      <td>-0.882324</td>\n",
       "      <td>-0.022476</td>\n",
       "      <td>-0.374023</td>\n",
       "      <td>0</td>\n",
       "      <td>0</td>\n",
       "      <td>0</td>\n",
       "    </tr>\n",
       "    <tr>\n",
       "      <th>108124</th>\n",
       "      <td>0.990723</td>\n",
       "      <td>-0.875000</td>\n",
       "      <td>-0.038879</td>\n",
       "      <td>-0.369385</td>\n",
       "      <td>0</td>\n",
       "      <td>0</td>\n",
       "      <td>0</td>\n",
       "    </tr>\n",
       "  </tbody>\n",
       "</table>\n",
       "<p>11153202 rows × 7 columns</p>\n",
       "</div>"
      ],
      "text/plain": [
       "            Time      AccV     AccML     AccAP  StartHesitation  Turn  Walking\n",
       "0       0.000000 -9.664062  0.042542  0.184692                0     0        0\n",
       "1       0.000135 -9.671875  0.049225  0.184692                0     0        0\n",
       "2       0.000270 -9.671875  0.033630  0.193848                0     0        0\n",
       "3       0.000406 -9.671875  0.035156  0.184326                0     0        0\n",
       "4       0.000541 -9.671875  0.043915  0.197754                0     0        0\n",
       "...          ...       ...       ...       ...              ...   ...      ...\n",
       "108120  0.990723 -0.979004  0.043121 -0.392822                0     0        0\n",
       "108121  0.990723 -0.949219  0.016144 -0.362549                0     0        0\n",
       "108122  0.990723 -0.909668 -0.007553 -0.364502                0     0        0\n",
       "108123  0.990723 -0.882324 -0.022476 -0.374023                0     0        0\n",
       "108124  0.990723 -0.875000 -0.038879 -0.369385                0     0        0\n",
       "\n",
       "[11153202 rows x 7 columns]"
      ]
     },
     "execution_count": 31,
     "metadata": {},
     "output_type": "execute_result"
    }
   ],
   "source": [
    "# Concatenate the dataframes vertically using pd.concat().\n",
    "merged = pd.concat([tdcsfog, defog], axis = 0)\n",
    "\n",
    "# Show the concatenated dataframe.\n",
    "merged"
   ]
  },
  {
   "cell_type": "markdown",
   "id": "e2dde620",
   "metadata": {
    "papermill": {
     "duration": 0.034291,
     "end_time": "2023-05-22T11:08:56.090234",
     "exception": false,
     "start_time": "2023-05-22T11:08:56.055943",
     "status": "completed"
    },
    "tags": []
   },
   "source": [
    "# Create Dataset\n",
    "\n",
    "First, we need to **split the data into input features (i.e. \"Time\", \"AccV\", \"AccML\", and \"AccAP\") and target variables (i.e. \"StartHesitation\", \"Turn\", and \"Walking\")**. We can do this using the .iloc method to select the appropriate columns."
   ]
  },
  {
   "cell_type": "code",
   "execution_count": 32,
   "id": "27d757a4",
   "metadata": {
    "execution": {
     "iopub.execute_input": "2023-05-22T11:08:56.161146Z",
     "iopub.status.busy": "2023-05-22T11:08:56.160760Z",
     "iopub.status.idle": "2023-05-22T11:12:24.348593Z",
     "shell.execute_reply": "2023-05-22T11:12:24.346200Z"
    },
    "papermill": {
     "duration": 208.229392,
     "end_time": "2023-05-22T11:12:24.354352",
     "exception": false,
     "start_time": "2023-05-22T11:08:56.124960",
     "status": "completed"
    },
    "tags": []
   },
   "outputs": [],
   "source": [
    "X_merged = merged.iloc[:, 0:4]  # input features\n",
    "\n",
    "merged['label'] = np.where(merged['Turn'] == 1, 1,\n",
    "                     np.where(merged['Walking'] == 1, 2,\n",
    "                     np.where(merged['StartHesitation'] == 1, 3, 0)))\n",
    "\n",
    "# Use smote to create synthetic data\n",
    "smote = SMOTE(random_state = 4, k_neighbors=100)\n",
    "\n",
    "X_syn, y_syn = smote.fit_resample(X_merged, merged['label'])"
   ]
  },
  {
   "cell_type": "code",
   "execution_count": 33,
   "id": "0eeb7436",
   "metadata": {
    "execution": {
     "iopub.execute_input": "2023-05-22T11:12:24.433339Z",
     "iopub.status.busy": "2023-05-22T11:12:24.432825Z",
     "iopub.status.idle": "2023-05-22T11:12:25.509082Z",
     "shell.execute_reply": "2023-05-22T11:12:25.507661Z"
    },
    "papermill": {
     "duration": 1.116862,
     "end_time": "2023-05-22T11:12:25.511815",
     "exception": false,
     "start_time": "2023-05-22T11:12:24.394953",
     "status": "completed"
    },
    "tags": []
   },
   "outputs": [],
   "source": [
    "# Create Synthetic dataset\n",
    "syn = pd.concat([X_syn,y_syn.to_frame(name = \"label\")], axis=1)\n",
    "syn[\"Turn\"], syn[\"Walking\"], syn[\"StartHesitation\"] = (syn[\"label\"] == 1).astype(int), (syn[\"label\"] == 2).astype(int), (syn[\"label\"] == 3).astype(int)"
   ]
  },
  {
   "cell_type": "code",
   "execution_count": 34,
   "id": "735f1a68",
   "metadata": {
    "execution": {
     "iopub.execute_input": "2023-05-22T11:12:25.582928Z",
     "iopub.status.busy": "2023-05-22T11:12:25.582482Z",
     "iopub.status.idle": "2023-05-22T11:12:49.347559Z",
     "shell.execute_reply": "2023-05-22T11:12:49.346346Z"
    },
    "papermill": {
     "duration": 23.804339,
     "end_time": "2023-05-22T11:12:49.350567",
     "exception": false,
     "start_time": "2023-05-22T11:12:25.546228",
     "status": "completed"
    },
    "tags": []
   },
   "outputs": [],
   "source": [
    "tot = pd.concat([merged,syn])\n",
    "tot = tot.sort_values(\"Time\",ignore_index = True)\n",
    "\n",
    "# Normalize time\n",
    "# tot[\"Time\"] = tot[\"Time\"] / (len(tot) - 1)"
   ]
  },
  {
   "cell_type": "code",
   "execution_count": 35,
   "id": "7b3b6416",
   "metadata": {
    "execution": {
     "iopub.execute_input": "2023-05-22T11:12:49.421892Z",
     "iopub.status.busy": "2023-05-22T11:12:49.421511Z",
     "iopub.status.idle": "2023-05-22T11:12:56.134725Z",
     "shell.execute_reply": "2023-05-22T11:12:56.133578Z"
    },
    "papermill": {
     "duration": 6.751622,
     "end_time": "2023-05-22T11:12:56.137197",
     "exception": false,
     "start_time": "2023-05-22T11:12:49.385575",
     "status": "completed"
    },
    "tags": []
   },
   "outputs": [
    {
     "name": "stdout",
     "output_type": "stream",
     "text": [
      "Memory usage of dataframe is 1688.27 MB\n",
      "Memory usage became:  506.48108673095703  MB\n"
     ]
    }
   ],
   "source": [
    "tot = reduce_memory_usage(tot)"
   ]
  },
  {
   "cell_type": "code",
   "execution_count": 36,
   "id": "66ee13a2",
   "metadata": {
    "execution": {
     "iopub.execute_input": "2023-05-22T11:12:56.208103Z",
     "iopub.status.busy": "2023-05-22T11:12:56.207693Z",
     "iopub.status.idle": "2023-05-22T11:12:58.076396Z",
     "shell.execute_reply": "2023-05-22T11:12:58.075310Z"
    },
    "papermill": {
     "duration": 1.907187,
     "end_time": "2023-05-22T11:12:58.079094",
     "exception": false,
     "start_time": "2023-05-22T11:12:56.171907",
     "status": "completed"
    },
    "tags": []
   },
   "outputs": [],
   "source": [
    "X_tot = tot.iloc[:, 0:4]\n",
    "y1 = tot['StartHesitation']  # target variable for StartHesitation\n",
    "y2 = tot['Turn']  # target variable for Turn\n",
    "y3 = tot['Walking']  # target variable for Walking"
   ]
  },
  {
   "cell_type": "markdown",
   "id": "3c4f3e94",
   "metadata": {
    "papermill": {
     "duration": 0.034658,
     "end_time": "2023-05-22T11:12:58.148322",
     "exception": false,
     "start_time": "2023-05-22T11:12:58.113664",
     "status": "completed"
    },
    "tags": []
   },
   "source": [
    "Most of the target variables are 0. We had better **create each balanced dataset with the target variables of 0 and 1 equally**."
   ]
  },
  {
   "cell_type": "code",
   "execution_count": 37,
   "id": "ad338a03",
   "metadata": {
    "execution": {
     "iopub.execute_input": "2023-05-22T11:12:58.221700Z",
     "iopub.status.busy": "2023-05-22T11:12:58.221298Z",
     "iopub.status.idle": "2023-05-22T11:13:04.989361Z",
     "shell.execute_reply": "2023-05-22T11:13:04.988157Z"
    },
    "papermill": {
     "duration": 6.807815,
     "end_time": "2023-05-22T11:13:04.992129",
     "exception": false,
     "start_time": "2023-05-22T11:12:58.184314",
     "status": "completed"
    },
    "tags": []
   },
   "outputs": [],
   "source": [
    "# Find the positions of y1 where it equals 0.\n",
    "y1_zeros = np.where(y1 == 0)[0]\n",
    "y1_ones = np.where(y1 == 1)[0]\n",
    "\n",
    "# Choose the same number of samples with y1 == 1 as there are with y1 == 0.\n",
    "num1_ones = (y1 == 1).sum()\n",
    "np.random.seed(42)\n",
    "y1_zeros = np.random.choice(np.where(y1 == 0)[0], size = num1_ones, replace = False)\n",
    "\n",
    "# Combine the positions of y1 == 0 and y1 == 1.\n",
    "y1_balanced_idxs = np.sort(np.concatenate([y1_zeros, y1_ones]))\n",
    "\n",
    "# Use the balanced indices to get the corresponding rows of X and y1.\n",
    "X1_balanced = X_tot.iloc[y1_balanced_idxs, :]\n",
    "y1_balanced = y1.iloc[y1_balanced_idxs]"
   ]
  },
  {
   "cell_type": "code",
   "execution_count": 38,
   "id": "7b65d6b3",
   "metadata": {
    "execution": {
     "iopub.execute_input": "2023-05-22T11:13:05.063823Z",
     "iopub.status.busy": "2023-05-22T11:13:05.063389Z",
     "iopub.status.idle": "2023-05-22T11:13:11.646816Z",
     "shell.execute_reply": "2023-05-22T11:13:11.645849Z"
    },
    "papermill": {
     "duration": 6.622429,
     "end_time": "2023-05-22T11:13:11.649466",
     "exception": false,
     "start_time": "2023-05-22T11:13:05.027037",
     "status": "completed"
    },
    "tags": []
   },
   "outputs": [],
   "source": [
    "# Find the positions of y2 where it equals 0.\n",
    "y2_zeros = np.where(y2 == 0)[0]\n",
    "y2_ones = np.where(y2 == 1)[0]\n",
    "\n",
    "# Choose the same number of samples with y2 == 1 as there are with y2 == 0.\n",
    "num2_ones = (y2 == 1).sum()\n",
    "np.random.seed(42)\n",
    "y2_zeros = np.random.choice(np.where(y2 == 0)[0], size = num2_ones, replace = False)\n",
    "\n",
    "# Combine the positions of y2 == 0 and y2 == 1.\n",
    "y2_balanced_idxs = np.sort(np.concatenate([y2_zeros, y2_ones]))\n",
    "\n",
    "# Use the balanced indices to get the corresponding rows of X and y1.\n",
    "X2_balanced = X_tot.iloc[y2_balanced_idxs, :]\n",
    "y2_balanced = y2.iloc[y2_balanced_idxs]"
   ]
  },
  {
   "cell_type": "code",
   "execution_count": 39,
   "id": "20c276e7",
   "metadata": {
    "execution": {
     "iopub.execute_input": "2023-05-22T11:13:11.721956Z",
     "iopub.status.busy": "2023-05-22T11:13:11.721540Z",
     "iopub.status.idle": "2023-05-22T11:13:17.957457Z",
     "shell.execute_reply": "2023-05-22T11:13:17.956220Z"
    },
    "papermill": {
     "duration": 6.276194,
     "end_time": "2023-05-22T11:13:17.960694",
     "exception": false,
     "start_time": "2023-05-22T11:13:11.684500",
     "status": "completed"
    },
    "tags": []
   },
   "outputs": [],
   "source": [
    "# Find the positions of y3 where it equals 0.\n",
    "y3_zeros = np.where(y3 == 0)[0]\n",
    "y3_ones = np.where(y3 == 1)[0]\n",
    "\n",
    "# Choose the same number of samples with y3 == 1 as there are with y3 == 0.\n",
    "num3_ones = (y3 == 1).sum()\n",
    "np.random.seed(42)\n",
    "y3_zeros = np.random.choice(np.where(y3 == 0)[0], size = num3_ones, replace = False)\n",
    "\n",
    "# Combine the positions of y3 == 0 and y3 == 1.\n",
    "y3_balanced_idxs = np.sort(np.concatenate([y3_zeros, y3_ones]))\n",
    "\n",
    "# Use the balanced indices to get the corresponding rows of X and y3.\n",
    "X3_balanced = X_tot.iloc[y3_balanced_idxs, :]\n",
    "y3_balanced = y3.iloc[y3_balanced_idxs]"
   ]
  },
  {
   "cell_type": "markdown",
   "id": "1ed4df3a",
   "metadata": {
    "papermill": {
     "duration": 0.036502,
     "end_time": "2023-05-22T11:13:18.034974",
     "exception": false,
     "start_time": "2023-05-22T11:13:17.998472",
     "status": "completed"
    },
    "tags": []
   },
   "source": [
    "Next, we can **split the data into training and testing sets using the train_test_split function from scikit-learn**."
   ]
  },
  {
   "cell_type": "code",
   "execution_count": 40,
   "id": "8a4a80ea",
   "metadata": {
    "execution": {
     "iopub.execute_input": "2023-05-22T11:13:18.107828Z",
     "iopub.status.busy": "2023-05-22T11:13:18.107372Z",
     "iopub.status.idle": "2023-05-22T11:13:35.773210Z",
     "shell.execute_reply": "2023-05-22T11:13:35.771825Z"
    },
    "papermill": {
     "duration": 17.705699,
     "end_time": "2023-05-22T11:13:35.776571",
     "exception": false,
     "start_time": "2023-05-22T11:13:18.070872",
     "status": "completed"
    },
    "tags": []
   },
   "outputs": [],
   "source": [
    "from sklearn.model_selection import train_test_split\n",
    "\n",
    "X1_train, X1_test, y1_train, y1_test = train_test_split(X1_balanced, y1_balanced, test_size = 0.2, random_state = 42)\n",
    "X2_train, X2_test, y2_train, y2_test = train_test_split(X2_balanced, y2_balanced, test_size = 0.2, random_state = 42)\n",
    "X3_train, X3_test, y3_train, y3_test = train_test_split(X3_balanced, y3_balanced, test_size = 0.2, random_state = 42)"
   ]
  },
  {
   "cell_type": "markdown",
   "id": "e4a73f1e",
   "metadata": {
    "papermill": {
     "duration": 0.037534,
     "end_time": "2023-05-22T11:13:35.853239",
     "exception": false,
     "start_time": "2023-05-22T11:13:35.815705",
     "status": "completed"
    },
    "tags": []
   },
   "source": [
    "Then, we **standardize the independent variables**."
   ]
  },
  {
   "cell_type": "code",
   "execution_count": 41,
   "id": "d9f89ef9",
   "metadata": {
    "execution": {
     "iopub.execute_input": "2023-05-22T11:13:35.929192Z",
     "iopub.status.busy": "2023-05-22T11:13:35.928763Z",
     "iopub.status.idle": "2023-05-22T11:13:47.255030Z",
     "shell.execute_reply": "2023-05-22T11:13:47.253872Z"
    },
    "papermill": {
     "duration": 11.367717,
     "end_time": "2023-05-22T11:13:47.258245",
     "exception": false,
     "start_time": "2023-05-22T11:13:35.890528",
     "status": "completed"
    },
    "tags": []
   },
   "outputs": [],
   "source": [
    "from sklearn.preprocessing import StandardScaler\n",
    "\n",
    "# Standardize the independent variables.\n",
    "scaler1 = StandardScaler()\n",
    "X1_train = scaler1.fit_transform(X1_train)\n",
    "X1_test = scaler1.transform(X1_test)\n",
    "\n",
    "scaler2 = StandardScaler()\n",
    "X2_train = scaler2.fit_transform(X2_train)\n",
    "X2_test = scaler2.transform(X2_test)\n",
    "\n",
    "scaler3 = StandardScaler()\n",
    "X3_train = scaler3.fit_transform(X3_train)\n",
    "X3_test = scaler3.transform(X3_test)"
   ]
  },
  {
   "cell_type": "markdown",
   "id": "4b535129",
   "metadata": {
    "papermill": {
     "duration": 0.034629,
     "end_time": "2023-05-22T11:13:47.329372",
     "exception": false,
     "start_time": "2023-05-22T11:13:47.294743",
     "status": "completed"
    },
    "tags": []
   },
   "source": [
    "# Create, Train, and Evaluate Model\n",
    "\n",
    "Finally, we can **create and train three separate models**, one for each target variable, using a suitable algorithm.\n",
    "       \n",
    "### This time we use **Random Forest Regressor instead of the Logistic Regression model**.\n",
    "\n",
    "**For a Logistic Regression model, please see [PD FOG Prediction Baseline by Logistic Regression](https://www.kaggle.com/code/gokifujiya/pd-fog-prediction-baseline-by-logistic-regression).**"
   ]
  },
  {
   "cell_type": "code",
   "execution_count": 42,
   "id": "19ab6bb4",
   "metadata": {
    "execution": {
     "iopub.execute_input": "2023-05-22T11:13:47.401713Z",
     "iopub.status.busy": "2023-05-22T11:13:47.401330Z",
     "iopub.status.idle": "2023-05-22T12:31:00.899848Z",
     "shell.execute_reply": "2023-05-22T12:31:00.898347Z"
    },
    "papermill": {
     "duration": 4633.538252,
     "end_time": "2023-05-22T12:31:00.902814",
     "exception": false,
     "start_time": "2023-05-22T11:13:47.364562",
     "status": "completed"
    },
    "tags": []
   },
   "outputs": [
    {
     "name": "stdout",
     "output_type": "stream",
     "text": [
      "R2 for StartHesitation: 0.659784946059977\n",
      "R2 for Turn: 0.2689010421684056\n",
      "R2 for Walking: 0.40957100836209226\n"
     ]
    }
   ],
   "source": [
    "#from sklearn.linear_model import LogisticRegression\n",
    "from sklearn import ensemble\n",
    "\n",
    "# Create three separate logistic regression models.\n",
    "#model1 = LogisticRegression()\n",
    "#model2 = LogisticRegression()\n",
    "#model3 = LogisticRegression()\n",
    "\n",
    "# Create three separate Random Forest Regressor models.\n",
    "model1 = ensemble.RandomForestRegressor(n_estimators = 100, max_depth = 7, n_jobs = -1, random_state = 42)\n",
    "model2 = ensemble.RandomForestRegressor(n_estimators = 100, max_depth = 7, n_jobs = -1, random_state = 42)\n",
    "model3 = ensemble.RandomForestRegressor(n_estimators = 100, max_depth = 7, n_jobs = -1, random_state = 42)\n",
    "\n",
    "# Train the models on the training data.\n",
    "model1.fit(X1_train, y1_train)\n",
    "model2.fit(X2_train, y2_train)\n",
    "model3.fit(X3_train, y3_train)\n",
    "\n",
    "# Evaluate the models on the test data.\n",
    "print('R2 for StartHesitation:', model1.score(X1_test, y1_test))\n",
    "print('R2 for Turn:', model2.score(X2_test, y2_test))\n",
    "print('R2 for Walking:', model3.score(X3_test, y3_test))"
   ]
  },
  {
   "cell_type": "markdown",
   "id": "6617d47c",
   "metadata": {
    "papermill": {
     "duration": 0.035525,
     "end_time": "2023-05-22T12:31:00.974205",
     "exception": false,
     "start_time": "2023-05-22T12:31:00.938680",
     "status": "completed"
    },
    "tags": []
   },
   "source": [
    "# Recreate Dataset and Training\n",
    "\n",
    "**For submission we should not split the datasets to keep the amount of data and to get a higher score.**"
   ]
  },
  {
   "cell_type": "code",
   "execution_count": 43,
   "id": "5a2ed66f",
   "metadata": {
    "execution": {
     "iopub.execute_input": "2023-05-22T12:31:01.047569Z",
     "iopub.status.busy": "2023-05-22T12:31:01.047131Z",
     "iopub.status.idle": "2023-05-22T12:31:13.889722Z",
     "shell.execute_reply": "2023-05-22T12:31:13.888467Z"
    },
    "papermill": {
     "duration": 12.883223,
     "end_time": "2023-05-22T12:31:13.892580",
     "exception": false,
     "start_time": "2023-05-22T12:31:01.009357",
     "status": "completed"
    },
    "tags": []
   },
   "outputs": [],
   "source": [
    "from sklearn.preprocessing import StandardScaler\n",
    "\n",
    "# Standardize the independent variables.\n",
    "scaler1 = StandardScaler()\n",
    "X1_balanced = scaler1.fit_transform(X1_balanced)\n",
    "\n",
    "scaler2 = StandardScaler()\n",
    "X2_balanced = scaler2.fit_transform(X2_balanced)\n",
    "\n",
    "scaler3 = StandardScaler()\n",
    "X3_balanced = scaler3.fit_transform(X3_balanced)"
   ]
  },
  {
   "cell_type": "code",
   "execution_count": 44,
   "id": "04322430",
   "metadata": {
    "execution": {
     "iopub.execute_input": "2023-05-22T12:31:13.965946Z",
     "iopub.status.busy": "2023-05-22T12:31:13.965554Z",
     "iopub.status.idle": "2023-05-22T13:51:06.314560Z",
     "shell.execute_reply": "2023-05-22T13:51:06.312749Z"
    },
    "papermill": {
     "duration": 4792.423453,
     "end_time": "2023-05-22T13:51:06.351425",
     "exception": false,
     "start_time": "2023-05-22T12:31:13.927972",
     "status": "completed"
    },
    "tags": []
   },
   "outputs": [
    {
     "data": {
      "text/html": [
       "<style>#sk-container-id-1 {color: black;background-color: white;}#sk-container-id-1 pre{padding: 0;}#sk-container-id-1 div.sk-toggleable {background-color: white;}#sk-container-id-1 label.sk-toggleable__label {cursor: pointer;display: block;width: 100%;margin-bottom: 0;padding: 0.3em;box-sizing: border-box;text-align: center;}#sk-container-id-1 label.sk-toggleable__label-arrow:before {content: \"▸\";float: left;margin-right: 0.25em;color: #696969;}#sk-container-id-1 label.sk-toggleable__label-arrow:hover:before {color: black;}#sk-container-id-1 div.sk-estimator:hover label.sk-toggleable__label-arrow:before {color: black;}#sk-container-id-1 div.sk-toggleable__content {max-height: 0;max-width: 0;overflow: hidden;text-align: left;background-color: #f0f8ff;}#sk-container-id-1 div.sk-toggleable__content pre {margin: 0.2em;color: black;border-radius: 0.25em;background-color: #f0f8ff;}#sk-container-id-1 input.sk-toggleable__control:checked~div.sk-toggleable__content {max-height: 200px;max-width: 100%;overflow: auto;}#sk-container-id-1 input.sk-toggleable__control:checked~label.sk-toggleable__label-arrow:before {content: \"▾\";}#sk-container-id-1 div.sk-estimator input.sk-toggleable__control:checked~label.sk-toggleable__label {background-color: #d4ebff;}#sk-container-id-1 div.sk-label input.sk-toggleable__control:checked~label.sk-toggleable__label {background-color: #d4ebff;}#sk-container-id-1 input.sk-hidden--visually {border: 0;clip: rect(1px 1px 1px 1px);clip: rect(1px, 1px, 1px, 1px);height: 1px;margin: -1px;overflow: hidden;padding: 0;position: absolute;width: 1px;}#sk-container-id-1 div.sk-estimator {font-family: monospace;background-color: #f0f8ff;border: 1px dotted black;border-radius: 0.25em;box-sizing: border-box;margin-bottom: 0.5em;}#sk-container-id-1 div.sk-estimator:hover {background-color: #d4ebff;}#sk-container-id-1 div.sk-parallel-item::after {content: \"\";width: 100%;border-bottom: 1px solid gray;flex-grow: 1;}#sk-container-id-1 div.sk-label:hover label.sk-toggleable__label {background-color: #d4ebff;}#sk-container-id-1 div.sk-serial::before {content: \"\";position: absolute;border-left: 1px solid gray;box-sizing: border-box;top: 0;bottom: 0;left: 50%;z-index: 0;}#sk-container-id-1 div.sk-serial {display: flex;flex-direction: column;align-items: center;background-color: white;padding-right: 0.2em;padding-left: 0.2em;position: relative;}#sk-container-id-1 div.sk-item {position: relative;z-index: 1;}#sk-container-id-1 div.sk-parallel {display: flex;align-items: stretch;justify-content: center;background-color: white;position: relative;}#sk-container-id-1 div.sk-item::before, #sk-container-id-1 div.sk-parallel-item::before {content: \"\";position: absolute;border-left: 1px solid gray;box-sizing: border-box;top: 0;bottom: 0;left: 50%;z-index: -1;}#sk-container-id-1 div.sk-parallel-item {display: flex;flex-direction: column;z-index: 1;position: relative;background-color: white;}#sk-container-id-1 div.sk-parallel-item:first-child::after {align-self: flex-end;width: 50%;}#sk-container-id-1 div.sk-parallel-item:last-child::after {align-self: flex-start;width: 50%;}#sk-container-id-1 div.sk-parallel-item:only-child::after {width: 0;}#sk-container-id-1 div.sk-dashed-wrapped {border: 1px dashed gray;margin: 0 0.4em 0.5em 0.4em;box-sizing: border-box;padding-bottom: 0.4em;background-color: white;}#sk-container-id-1 div.sk-label label {font-family: monospace;font-weight: bold;display: inline-block;line-height: 1.2em;}#sk-container-id-1 div.sk-label-container {text-align: center;}#sk-container-id-1 div.sk-container {/* jupyter's `normalize.less` sets `[hidden] { display: none; }` but bootstrap.min.css set `[hidden] { display: none !important; }` so we also need the `!important` here to be able to override the default hidden behavior on the sphinx rendered scikit-learn.org. See: https://github.com/scikit-learn/scikit-learn/issues/21755 */display: inline-block !important;position: relative;}#sk-container-id-1 div.sk-text-repr-fallback {display: none;}</style><div id=\"sk-container-id-1\" class=\"sk-top-container\"><div class=\"sk-text-repr-fallback\"><pre>RandomForestRegressor(max_depth=7, n_jobs=-1, random_state=42)</pre><b>In a Jupyter environment, please rerun this cell to show the HTML representation or trust the notebook. <br />On GitHub, the HTML representation is unable to render, please try loading this page with nbviewer.org.</b></div><div class=\"sk-container\" hidden><div class=\"sk-item\"><div class=\"sk-estimator sk-toggleable\"><input class=\"sk-toggleable__control sk-hidden--visually\" id=\"sk-estimator-id-1\" type=\"checkbox\" checked><label for=\"sk-estimator-id-1\" class=\"sk-toggleable__label sk-toggleable__label-arrow\">RandomForestRegressor</label><div class=\"sk-toggleable__content\"><pre>RandomForestRegressor(max_depth=7, n_jobs=-1, random_state=42)</pre></div></div></div></div></div>"
      ],
      "text/plain": [
       "RandomForestRegressor(max_depth=7, n_jobs=-1, random_state=42)"
      ]
     },
     "execution_count": 44,
     "metadata": {},
     "output_type": "execute_result"
    }
   ],
   "source": [
    "#from sklearn.linear_model import LogisticRegression\n",
    "from sklearn import ensemble\n",
    "\n",
    "# Create three separate logistic regression models.\n",
    "#model1 = LogisticRegression()\n",
    "#model2 = LogisticRegression()\n",
    "#model3 = LogisticRegression()\n",
    "\n",
    "# Create three separate Random Forest Regressor models.\n",
    "model1 = ensemble.RandomForestRegressor(n_estimators = 100, max_depth = 7, n_jobs = -1, random_state = 42)\n",
    "model2 = ensemble.RandomForestRegressor(n_estimators = 100, max_depth = 7, n_jobs = -1, random_state = 42)\n",
    "model3 = ensemble.RandomForestRegressor(n_estimators = 100, max_depth = 7, n_jobs = -1, random_state = 42)\n",
    "\n",
    "# Train the models on the training data.\n",
    "model1.fit(X1_balanced, y1_balanced)\n",
    "model2.fit(X2_balanced, y2_balanced)\n",
    "model3.fit(X3_balanced, y3_balanced)"
   ]
  },
  {
   "cell_type": "markdown",
   "id": "8562a87f",
   "metadata": {
    "papermill": {
     "duration": 0.037623,
     "end_time": "2023-05-22T13:51:06.427161",
     "exception": false,
     "start_time": "2023-05-22T13:51:06.389538",
     "status": "completed"
    },
    "tags": []
   },
   "source": [
    "# Create Test Dataset"
   ]
  },
  {
   "cell_type": "code",
   "execution_count": 45,
   "id": "6a6c6bc4",
   "metadata": {
    "execution": {
     "iopub.execute_input": "2023-05-22T13:51:06.503660Z",
     "iopub.status.busy": "2023-05-22T13:51:06.503180Z",
     "iopub.status.idle": "2023-05-22T13:51:06.574743Z",
     "shell.execute_reply": "2023-05-22T13:51:06.573265Z"
    },
    "papermill": {
     "duration": 0.112689,
     "end_time": "2023-05-22T13:51:06.577684",
     "exception": false,
     "start_time": "2023-05-22T13:51:06.464995",
     "status": "completed"
    },
    "tags": []
   },
   "outputs": [
    {
     "data": {
      "text/html": [
       "<div>\n",
       "<style scoped>\n",
       "    .dataframe tbody tr th:only-of-type {\n",
       "        vertical-align: middle;\n",
       "    }\n",
       "\n",
       "    .dataframe tbody tr th {\n",
       "        vertical-align: top;\n",
       "    }\n",
       "\n",
       "    .dataframe thead th {\n",
       "        text-align: right;\n",
       "    }\n",
       "</style>\n",
       "<table border=\"1\" class=\"dataframe\">\n",
       "  <thead>\n",
       "    <tr style=\"text-align: right;\">\n",
       "      <th></th>\n",
       "      <th>Time</th>\n",
       "      <th>AccV</th>\n",
       "      <th>AccML</th>\n",
       "      <th>AccAP</th>\n",
       "      <th>Id</th>\n",
       "    </tr>\n",
       "  </thead>\n",
       "  <tbody>\n",
       "    <tr>\n",
       "      <th>0</th>\n",
       "      <td>0.000000</td>\n",
       "      <td>-9.533939</td>\n",
       "      <td>0.566322</td>\n",
       "      <td>-1.413525</td>\n",
       "      <td>003f117e14_0</td>\n",
       "    </tr>\n",
       "    <tr>\n",
       "      <th>1</th>\n",
       "      <td>0.000214</td>\n",
       "      <td>-9.536140</td>\n",
       "      <td>0.564137</td>\n",
       "      <td>-1.440621</td>\n",
       "      <td>003f117e14_1</td>\n",
       "    </tr>\n",
       "    <tr>\n",
       "      <th>2</th>\n",
       "      <td>0.000427</td>\n",
       "      <td>-9.529345</td>\n",
       "      <td>0.561765</td>\n",
       "      <td>-1.429332</td>\n",
       "      <td>003f117e14_2</td>\n",
       "    </tr>\n",
       "    <tr>\n",
       "      <th>3</th>\n",
       "      <td>0.000641</td>\n",
       "      <td>-9.531239</td>\n",
       "      <td>0.564227</td>\n",
       "      <td>-1.415490</td>\n",
       "      <td>003f117e14_3</td>\n",
       "    </tr>\n",
       "    <tr>\n",
       "      <th>4</th>\n",
       "      <td>0.000855</td>\n",
       "      <td>-9.540825</td>\n",
       "      <td>0.561854</td>\n",
       "      <td>-1.429471</td>\n",
       "      <td>003f117e14_4</td>\n",
       "    </tr>\n",
       "    <tr>\n",
       "      <th>...</th>\n",
       "      <td>...</td>\n",
       "      <td>...</td>\n",
       "      <td>...</td>\n",
       "      <td>...</td>\n",
       "      <td>...</td>\n",
       "    </tr>\n",
       "    <tr>\n",
       "      <th>4677</th>\n",
       "      <td>0.999145</td>\n",
       "      <td>-9.351431</td>\n",
       "      <td>0.370047</td>\n",
       "      <td>-2.286318</td>\n",
       "      <td>003f117e14_4677</td>\n",
       "    </tr>\n",
       "    <tr>\n",
       "      <th>4678</th>\n",
       "      <td>0.999359</td>\n",
       "      <td>-9.341410</td>\n",
       "      <td>0.347721</td>\n",
       "      <td>-2.321991</td>\n",
       "      <td>003f117e14_4678</td>\n",
       "    </tr>\n",
       "    <tr>\n",
       "      <th>4679</th>\n",
       "      <td>0.999573</td>\n",
       "      <td>-9.350667</td>\n",
       "      <td>0.361341</td>\n",
       "      <td>-2.297158</td>\n",
       "      <td>003f117e14_4679</td>\n",
       "    </tr>\n",
       "    <tr>\n",
       "      <th>4680</th>\n",
       "      <td>0.999786</td>\n",
       "      <td>-9.343977</td>\n",
       "      <td>0.365726</td>\n",
       "      <td>-2.292650</td>\n",
       "      <td>003f117e14_4680</td>\n",
       "    </tr>\n",
       "    <tr>\n",
       "      <th>4681</th>\n",
       "      <td>1.000000</td>\n",
       "      <td>-9.348477</td>\n",
       "      <td>0.379439</td>\n",
       "      <td>-2.335422</td>\n",
       "      <td>003f117e14_4681</td>\n",
       "    </tr>\n",
       "  </tbody>\n",
       "</table>\n",
       "<p>4682 rows × 5 columns</p>\n",
       "</div>"
      ],
      "text/plain": [
       "          Time      AccV     AccML     AccAP               Id\n",
       "0     0.000000 -9.533939  0.566322 -1.413525     003f117e14_0\n",
       "1     0.000214 -9.536140  0.564137 -1.440621     003f117e14_1\n",
       "2     0.000427 -9.529345  0.561765 -1.429332     003f117e14_2\n",
       "3     0.000641 -9.531239  0.564227 -1.415490     003f117e14_3\n",
       "4     0.000855 -9.540825  0.561854 -1.429471     003f117e14_4\n",
       "...        ...       ...       ...       ...              ...\n",
       "4677  0.999145 -9.351431  0.370047 -2.286318  003f117e14_4677\n",
       "4678  0.999359 -9.341410  0.347721 -2.321991  003f117e14_4678\n",
       "4679  0.999573 -9.350667  0.361341 -2.297158  003f117e14_4679\n",
       "4680  0.999786 -9.343977  0.365726 -2.292650  003f117e14_4680\n",
       "4681  1.000000 -9.348477  0.379439 -2.335422  003f117e14_4681\n",
       "\n",
       "[4682 rows x 5 columns]"
      ]
     },
     "execution_count": 45,
     "metadata": {},
     "output_type": "execute_result"
    }
   ],
   "source": [
    "# Set the directory path to the folder containing the CSV files.\n",
    "tdcsfog_test_path = '/kaggle/input/tlvmc-parkinsons-freezing-gait-prediction/test/tdcsfog'\n",
    "\n",
    "# Initialize an empty list to store the dataframes.\n",
    "tdcsfog_test_list = []\n",
    "\n",
    "# Loop through each file in the directory and read it into a dataframe.\n",
    "for file_name in os.listdir(tdcsfog_test_path):\n",
    "    if file_name.endswith('.csv'):\n",
    "        file_path = os.path.join(tdcsfog_test_path, file_name)\n",
    "        file = pd.read_csv(file_path)\n",
    "        file['Id'] = file_name[:-4] + '_' + file['Time'].apply(str)\n",
    "        file.Time = file.Time / (len(file) - 1)\n",
    "        tdcsfog_test_list.append(file)\n",
    "\n",
    "# Concatenate the dataframes vertically using pd.concat().\n",
    "tdcsfog_test = pd.concat(tdcsfog_test_list, axis = 0)\n",
    "\n",
    "# Show the concatenated dataframe.\n",
    "tdcsfog_test"
   ]
  },
  {
   "cell_type": "code",
   "execution_count": 46,
   "id": "586de48d",
   "metadata": {
    "execution": {
     "iopub.execute_input": "2023-05-22T13:51:06.659356Z",
     "iopub.status.busy": "2023-05-22T13:51:06.657875Z",
     "iopub.status.idle": "2023-05-22T13:51:06.683860Z",
     "shell.execute_reply": "2023-05-22T13:51:06.682614Z"
    },
    "papermill": {
     "duration": 0.068634,
     "end_time": "2023-05-22T13:51:06.686923",
     "exception": false,
     "start_time": "2023-05-22T13:51:06.618289",
     "status": "completed"
    },
    "tags": []
   },
   "outputs": [
    {
     "name": "stdout",
     "output_type": "stream",
     "text": [
      "Memory usage of dataframe is 0.18 MB\n",
      "Memory usage became:  0.20650863647460938  MB\n"
     ]
    }
   ],
   "source": [
    "tdcsfog_test = reduce_memory_usage(tdcsfog_test)"
   ]
  },
  {
   "cell_type": "code",
   "execution_count": 47,
   "id": "13d7d5bd",
   "metadata": {
    "execution": {
     "iopub.execute_input": "2023-05-22T13:51:06.767123Z",
     "iopub.status.busy": "2023-05-22T13:51:06.766679Z",
     "iopub.status.idle": "2023-05-22T13:51:07.465562Z",
     "shell.execute_reply": "2023-05-22T13:51:07.464348Z"
    },
    "papermill": {
     "duration": 0.74105,
     "end_time": "2023-05-22T13:51:07.468180",
     "exception": false,
     "start_time": "2023-05-22T13:51:06.727130",
     "status": "completed"
    },
    "tags": []
   },
   "outputs": [
    {
     "data": {
      "text/html": [
       "<div>\n",
       "<style scoped>\n",
       "    .dataframe tbody tr th:only-of-type {\n",
       "        vertical-align: middle;\n",
       "    }\n",
       "\n",
       "    .dataframe tbody tr th {\n",
       "        vertical-align: top;\n",
       "    }\n",
       "\n",
       "    .dataframe thead th {\n",
       "        text-align: right;\n",
       "    }\n",
       "</style>\n",
       "<table border=\"1\" class=\"dataframe\">\n",
       "  <thead>\n",
       "    <tr style=\"text-align: right;\">\n",
       "      <th></th>\n",
       "      <th>Time</th>\n",
       "      <th>AccV</th>\n",
       "      <th>AccML</th>\n",
       "      <th>AccAP</th>\n",
       "      <th>Id</th>\n",
       "    </tr>\n",
       "  </thead>\n",
       "  <tbody>\n",
       "    <tr>\n",
       "      <th>0</th>\n",
       "      <td>0.000000</td>\n",
       "      <td>-0.914652</td>\n",
       "      <td>-0.300851</td>\n",
       "      <td>0.298156</td>\n",
       "      <td>02ab235146_0</td>\n",
       "    </tr>\n",
       "    <tr>\n",
       "      <th>1</th>\n",
       "      <td>0.000004</td>\n",
       "      <td>-0.914367</td>\n",
       "      <td>-0.301572</td>\n",
       "      <td>0.298325</td>\n",
       "      <td>02ab235146_1</td>\n",
       "    </tr>\n",
       "    <tr>\n",
       "      <th>2</th>\n",
       "      <td>0.000007</td>\n",
       "      <td>-0.779540</td>\n",
       "      <td>-0.343197</td>\n",
       "      <td>0.275690</td>\n",
       "      <td>02ab235146_2</td>\n",
       "    </tr>\n",
       "    <tr>\n",
       "      <th>3</th>\n",
       "      <td>0.000011</td>\n",
       "      <td>-0.993162</td>\n",
       "      <td>-0.270281</td>\n",
       "      <td>0.315775</td>\n",
       "      <td>02ab235146_3</td>\n",
       "    </tr>\n",
       "    <tr>\n",
       "      <th>4</th>\n",
       "      <td>0.000014</td>\n",
       "      <td>-0.948767</td>\n",
       "      <td>-0.307849</td>\n",
       "      <td>0.297191</td>\n",
       "      <td>02ab235146_4</td>\n",
       "    </tr>\n",
       "    <tr>\n",
       "      <th>...</th>\n",
       "      <td>...</td>\n",
       "      <td>...</td>\n",
       "      <td>...</td>\n",
       "      <td>...</td>\n",
       "      <td>...</td>\n",
       "    </tr>\n",
       "    <tr>\n",
       "      <th>281683</th>\n",
       "      <td>0.999986</td>\n",
       "      <td>-0.899299</td>\n",
       "      <td>-0.232668</td>\n",
       "      <td>0.389147</td>\n",
       "      <td>02ab235146_281683</td>\n",
       "    </tr>\n",
       "    <tr>\n",
       "      <th>281684</th>\n",
       "      <td>0.999989</td>\n",
       "      <td>-0.901973</td>\n",
       "      <td>-0.233051</td>\n",
       "      <td>0.390114</td>\n",
       "      <td>02ab235146_281684</td>\n",
       "    </tr>\n",
       "    <tr>\n",
       "      <th>281685</th>\n",
       "      <td>0.999993</td>\n",
       "      <td>-0.901690</td>\n",
       "      <td>-0.231888</td>\n",
       "      <td>0.391896</td>\n",
       "      <td>02ab235146_281685</td>\n",
       "    </tr>\n",
       "    <tr>\n",
       "      <th>281686</th>\n",
       "      <td>0.999996</td>\n",
       "      <td>-0.899576</td>\n",
       "      <td>-0.232429</td>\n",
       "      <td>0.391106</td>\n",
       "      <td>02ab235146_281686</td>\n",
       "    </tr>\n",
       "    <tr>\n",
       "      <th>281687</th>\n",
       "      <td>1.000000</td>\n",
       "      <td>-0.900289</td>\n",
       "      <td>-0.232363</td>\n",
       "      <td>0.390735</td>\n",
       "      <td>02ab235146_281687</td>\n",
       "    </tr>\n",
       "  </tbody>\n",
       "</table>\n",
       "<p>281688 rows × 5 columns</p>\n",
       "</div>"
      ],
      "text/plain": [
       "            Time      AccV     AccML     AccAP                 Id\n",
       "0       0.000000 -0.914652 -0.300851  0.298156       02ab235146_0\n",
       "1       0.000004 -0.914367 -0.301572  0.298325       02ab235146_1\n",
       "2       0.000007 -0.779540 -0.343197  0.275690       02ab235146_2\n",
       "3       0.000011 -0.993162 -0.270281  0.315775       02ab235146_3\n",
       "4       0.000014 -0.948767 -0.307849  0.297191       02ab235146_4\n",
       "...          ...       ...       ...       ...                ...\n",
       "281683  0.999986 -0.899299 -0.232668  0.389147  02ab235146_281683\n",
       "281684  0.999989 -0.901973 -0.233051  0.390114  02ab235146_281684\n",
       "281685  0.999993 -0.901690 -0.231888  0.391896  02ab235146_281685\n",
       "281686  0.999996 -0.899576 -0.232429  0.391106  02ab235146_281686\n",
       "281687  1.000000 -0.900289 -0.232363  0.390735  02ab235146_281687\n",
       "\n",
       "[281688 rows x 5 columns]"
      ]
     },
     "execution_count": 47,
     "metadata": {},
     "output_type": "execute_result"
    }
   ],
   "source": [
    "# Set the directory path to the folder containing the CSV files.\n",
    "defog_test_path = '/kaggle/input/tlvmc-parkinsons-freezing-gait-prediction/test/defog'\n",
    "\n",
    "# Initialize an empty list to store the dataframes.\n",
    "defog_test_list = []\n",
    "\n",
    "# Loop through each file in the directory and read it into a dataframe.\n",
    "for file_name in os.listdir(defog_test_path):\n",
    "    if file_name.endswith('.csv'):\n",
    "        file_path = os.path.join(defog_test_path, file_name)\n",
    "        file = pd.read_csv(file_path)\n",
    "        file['Id'] = file_name[:-4] + '_' + file['Time'].apply(str)\n",
    "        file.Time = file.Time / (len(file) - 1)\n",
    "        defog_test_list.append(file)\n",
    "\n",
    "# Concatenate the dataframes vertically using pd.concat().\n",
    "defog_test = pd.concat(defog_test_list, axis = 0)\n",
    "\n",
    "# Show the concatenated dataframe.\n",
    "defog_test"
   ]
  },
  {
   "cell_type": "code",
   "execution_count": 48,
   "id": "771bc0a6",
   "metadata": {
    "execution": {
     "iopub.execute_input": "2023-05-22T13:51:07.546728Z",
     "iopub.status.busy": "2023-05-22T13:51:07.546259Z",
     "iopub.status.idle": "2023-05-22T13:51:08.207198Z",
     "shell.execute_reply": "2023-05-22T13:51:08.205331Z"
    },
    "papermill": {
     "duration": 0.704858,
     "end_time": "2023-05-22T13:51:08.210787",
     "exception": false,
     "start_time": "2023-05-22T13:51:07.505929",
     "status": "completed"
    },
    "tags": []
   },
   "outputs": [
    {
     "name": "stdout",
     "output_type": "stream",
     "text": [
      "Memory usage of dataframe is 10.75 MB\n",
      "Memory usage became:  13.435432434082031  MB\n"
     ]
    }
   ],
   "source": [
    "defog_test = reduce_memory_usage(defog_test)"
   ]
  },
  {
   "cell_type": "code",
   "execution_count": 49,
   "id": "57ee88cf",
   "metadata": {
    "execution": {
     "iopub.execute_input": "2023-05-22T13:51:08.290399Z",
     "iopub.status.busy": "2023-05-22T13:51:08.289866Z",
     "iopub.status.idle": "2023-05-22T13:51:08.507108Z",
     "shell.execute_reply": "2023-05-22T13:51:08.505728Z"
    },
    "papermill": {
     "duration": 0.260754,
     "end_time": "2023-05-22T13:51:08.510196",
     "exception": false,
     "start_time": "2023-05-22T13:51:08.249442",
     "status": "completed"
    },
    "tags": []
   },
   "outputs": [
    {
     "data": {
      "text/html": [
       "<div>\n",
       "<style scoped>\n",
       "    .dataframe tbody tr th:only-of-type {\n",
       "        vertical-align: middle;\n",
       "    }\n",
       "\n",
       "    .dataframe tbody tr th {\n",
       "        vertical-align: top;\n",
       "    }\n",
       "\n",
       "    .dataframe thead th {\n",
       "        text-align: right;\n",
       "    }\n",
       "</style>\n",
       "<table border=\"1\" class=\"dataframe\">\n",
       "  <thead>\n",
       "    <tr style=\"text-align: right;\">\n",
       "      <th></th>\n",
       "      <th>Time</th>\n",
       "      <th>AccV</th>\n",
       "      <th>AccML</th>\n",
       "      <th>AccAP</th>\n",
       "      <th>Id</th>\n",
       "    </tr>\n",
       "  </thead>\n",
       "  <tbody>\n",
       "    <tr>\n",
       "      <th>0</th>\n",
       "      <td>0.000000</td>\n",
       "      <td>-9.531250</td>\n",
       "      <td>0.566406</td>\n",
       "      <td>-1.413086</td>\n",
       "      <td>003f117e14_0</td>\n",
       "    </tr>\n",
       "    <tr>\n",
       "      <th>1</th>\n",
       "      <td>0.000214</td>\n",
       "      <td>-9.539062</td>\n",
       "      <td>0.563965</td>\n",
       "      <td>-1.440430</td>\n",
       "      <td>003f117e14_1</td>\n",
       "    </tr>\n",
       "    <tr>\n",
       "      <th>2</th>\n",
       "      <td>0.000427</td>\n",
       "      <td>-9.531250</td>\n",
       "      <td>0.561523</td>\n",
       "      <td>-1.429688</td>\n",
       "      <td>003f117e14_2</td>\n",
       "    </tr>\n",
       "    <tr>\n",
       "      <th>3</th>\n",
       "      <td>0.000641</td>\n",
       "      <td>-9.531250</td>\n",
       "      <td>0.564453</td>\n",
       "      <td>-1.415039</td>\n",
       "      <td>003f117e14_3</td>\n",
       "    </tr>\n",
       "    <tr>\n",
       "      <th>4</th>\n",
       "      <td>0.000854</td>\n",
       "      <td>-9.539062</td>\n",
       "      <td>0.562012</td>\n",
       "      <td>-1.429688</td>\n",
       "      <td>003f117e14_4</td>\n",
       "    </tr>\n",
       "    <tr>\n",
       "      <th>...</th>\n",
       "      <td>...</td>\n",
       "      <td>...</td>\n",
       "      <td>...</td>\n",
       "      <td>...</td>\n",
       "      <td>...</td>\n",
       "    </tr>\n",
       "    <tr>\n",
       "      <th>286365</th>\n",
       "      <td>1.000000</td>\n",
       "      <td>-0.899414</td>\n",
       "      <td>-0.232666</td>\n",
       "      <td>0.389160</td>\n",
       "      <td>02ab235146_281683</td>\n",
       "    </tr>\n",
       "    <tr>\n",
       "      <th>286366</th>\n",
       "      <td>1.000000</td>\n",
       "      <td>-0.901855</td>\n",
       "      <td>-0.233032</td>\n",
       "      <td>0.390137</td>\n",
       "      <td>02ab235146_281684</td>\n",
       "    </tr>\n",
       "    <tr>\n",
       "      <th>286367</th>\n",
       "      <td>1.000000</td>\n",
       "      <td>-0.901855</td>\n",
       "      <td>-0.231934</td>\n",
       "      <td>0.391846</td>\n",
       "      <td>02ab235146_281685</td>\n",
       "    </tr>\n",
       "    <tr>\n",
       "      <th>286368</th>\n",
       "      <td>1.000000</td>\n",
       "      <td>-0.899414</td>\n",
       "      <td>-0.232422</td>\n",
       "      <td>0.391113</td>\n",
       "      <td>02ab235146_281686</td>\n",
       "    </tr>\n",
       "    <tr>\n",
       "      <th>286369</th>\n",
       "      <td>1.000000</td>\n",
       "      <td>-0.900391</td>\n",
       "      <td>-0.232422</td>\n",
       "      <td>0.390625</td>\n",
       "      <td>02ab235146_281687</td>\n",
       "    </tr>\n",
       "  </tbody>\n",
       "</table>\n",
       "<p>286370 rows × 5 columns</p>\n",
       "</div>"
      ],
      "text/plain": [
       "            Time      AccV     AccML     AccAP                 Id\n",
       "0       0.000000 -9.531250  0.566406 -1.413086       003f117e14_0\n",
       "1       0.000214 -9.539062  0.563965 -1.440430       003f117e14_1\n",
       "2       0.000427 -9.531250  0.561523 -1.429688       003f117e14_2\n",
       "3       0.000641 -9.531250  0.564453 -1.415039       003f117e14_3\n",
       "4       0.000854 -9.539062  0.562012 -1.429688       003f117e14_4\n",
       "...          ...       ...       ...       ...                ...\n",
       "286365  1.000000 -0.899414 -0.232666  0.389160  02ab235146_281683\n",
       "286366  1.000000 -0.901855 -0.233032  0.390137  02ab235146_281684\n",
       "286367  1.000000 -0.901855 -0.231934  0.391846  02ab235146_281685\n",
       "286368  1.000000 -0.899414 -0.232422  0.391113  02ab235146_281686\n",
       "286369  1.000000 -0.900391 -0.232422  0.390625  02ab235146_281687\n",
       "\n",
       "[286370 rows x 5 columns]"
      ]
     },
     "execution_count": 49,
     "metadata": {},
     "output_type": "execute_result"
    }
   ],
   "source": [
    "test = pd.concat([tdcsfog_test, defog_test], axis = 0).reset_index(drop = True)\n",
    "test"
   ]
  },
  {
   "cell_type": "markdown",
   "id": "bb92acf2",
   "metadata": {
    "papermill": {
     "duration": 0.038219,
     "end_time": "2023-05-22T13:51:08.586789",
     "exception": false,
     "start_time": "2023-05-22T13:51:08.548570",
     "status": "completed"
    },
    "tags": []
   },
   "source": [
    "# Inference"
   ]
  },
  {
   "cell_type": "code",
   "execution_count": 50,
   "id": "5fd41301",
   "metadata": {
    "execution": {
     "iopub.execute_input": "2023-05-22T13:51:08.666748Z",
     "iopub.status.busy": "2023-05-22T13:51:08.666049Z",
     "iopub.status.idle": "2023-05-22T13:51:09.760383Z",
     "shell.execute_reply": "2023-05-22T13:51:09.758865Z"
    },
    "papermill": {
     "duration": 1.138049,
     "end_time": "2023-05-22T13:51:09.763149",
     "exception": false,
     "start_time": "2023-05-22T13:51:08.625100",
     "status": "completed"
    },
    "tags": []
   },
   "outputs": [
    {
     "data": {
      "text/html": [
       "<div>\n",
       "<style scoped>\n",
       "    .dataframe tbody tr th:only-of-type {\n",
       "        vertical-align: middle;\n",
       "    }\n",
       "\n",
       "    .dataframe tbody tr th {\n",
       "        vertical-align: top;\n",
       "    }\n",
       "\n",
       "    .dataframe thead th {\n",
       "        text-align: right;\n",
       "    }\n",
       "</style>\n",
       "<table border=\"1\" class=\"dataframe\">\n",
       "  <thead>\n",
       "    <tr style=\"text-align: right;\">\n",
       "      <th></th>\n",
       "      <th>Time</th>\n",
       "      <th>AccV</th>\n",
       "      <th>AccML</th>\n",
       "      <th>AccAP</th>\n",
       "      <th>Id</th>\n",
       "      <th>StartHesitation</th>\n",
       "      <th>Turn</th>\n",
       "      <th>Walking</th>\n",
       "    </tr>\n",
       "  </thead>\n",
       "  <tbody>\n",
       "    <tr>\n",
       "      <th>0</th>\n",
       "      <td>0.000000</td>\n",
       "      <td>-9.531250</td>\n",
       "      <td>0.566406</td>\n",
       "      <td>-1.413086</td>\n",
       "      <td>003f117e14_0</td>\n",
       "      <td>0.112075</td>\n",
       "      <td>0.005730</td>\n",
       "      <td>0.021867</td>\n",
       "    </tr>\n",
       "    <tr>\n",
       "      <th>1</th>\n",
       "      <td>0.000214</td>\n",
       "      <td>-9.539062</td>\n",
       "      <td>0.563965</td>\n",
       "      <td>-1.440430</td>\n",
       "      <td>003f117e14_1</td>\n",
       "      <td>0.112075</td>\n",
       "      <td>0.005730</td>\n",
       "      <td>0.021867</td>\n",
       "    </tr>\n",
       "    <tr>\n",
       "      <th>2</th>\n",
       "      <td>0.000427</td>\n",
       "      <td>-9.531250</td>\n",
       "      <td>0.561523</td>\n",
       "      <td>-1.429688</td>\n",
       "      <td>003f117e14_2</td>\n",
       "      <td>0.112075</td>\n",
       "      <td>0.005730</td>\n",
       "      <td>0.021867</td>\n",
       "    </tr>\n",
       "    <tr>\n",
       "      <th>3</th>\n",
       "      <td>0.000641</td>\n",
       "      <td>-9.531250</td>\n",
       "      <td>0.564453</td>\n",
       "      <td>-1.415039</td>\n",
       "      <td>003f117e14_3</td>\n",
       "      <td>0.112075</td>\n",
       "      <td>0.005730</td>\n",
       "      <td>0.021867</td>\n",
       "    </tr>\n",
       "    <tr>\n",
       "      <th>4</th>\n",
       "      <td>0.000854</td>\n",
       "      <td>-9.539062</td>\n",
       "      <td>0.562012</td>\n",
       "      <td>-1.429688</td>\n",
       "      <td>003f117e14_4</td>\n",
       "      <td>0.112075</td>\n",
       "      <td>0.005730</td>\n",
       "      <td>0.021867</td>\n",
       "    </tr>\n",
       "    <tr>\n",
       "      <th>...</th>\n",
       "      <td>...</td>\n",
       "      <td>...</td>\n",
       "      <td>...</td>\n",
       "      <td>...</td>\n",
       "      <td>...</td>\n",
       "      <td>...</td>\n",
       "      <td>...</td>\n",
       "      <td>...</td>\n",
       "    </tr>\n",
       "    <tr>\n",
       "      <th>286365</th>\n",
       "      <td>1.000000</td>\n",
       "      <td>-0.899414</td>\n",
       "      <td>-0.232666</td>\n",
       "      <td>0.389160</td>\n",
       "      <td>02ab235146_281683</td>\n",
       "      <td>0.642225</td>\n",
       "      <td>0.198513</td>\n",
       "      <td>0.000000</td>\n",
       "    </tr>\n",
       "    <tr>\n",
       "      <th>286366</th>\n",
       "      <td>1.000000</td>\n",
       "      <td>-0.901855</td>\n",
       "      <td>-0.233032</td>\n",
       "      <td>0.390137</td>\n",
       "      <td>02ab235146_281684</td>\n",
       "      <td>0.642225</td>\n",
       "      <td>0.198513</td>\n",
       "      <td>0.000000</td>\n",
       "    </tr>\n",
       "    <tr>\n",
       "      <th>286367</th>\n",
       "      <td>1.000000</td>\n",
       "      <td>-0.901855</td>\n",
       "      <td>-0.231934</td>\n",
       "      <td>0.391846</td>\n",
       "      <td>02ab235146_281685</td>\n",
       "      <td>0.642225</td>\n",
       "      <td>0.198513</td>\n",
       "      <td>0.000000</td>\n",
       "    </tr>\n",
       "    <tr>\n",
       "      <th>286368</th>\n",
       "      <td>1.000000</td>\n",
       "      <td>-0.899414</td>\n",
       "      <td>-0.232422</td>\n",
       "      <td>0.391113</td>\n",
       "      <td>02ab235146_281686</td>\n",
       "      <td>0.642225</td>\n",
       "      <td>0.198513</td>\n",
       "      <td>0.000000</td>\n",
       "    </tr>\n",
       "    <tr>\n",
       "      <th>286369</th>\n",
       "      <td>1.000000</td>\n",
       "      <td>-0.900391</td>\n",
       "      <td>-0.232422</td>\n",
       "      <td>0.390625</td>\n",
       "      <td>02ab235146_281687</td>\n",
       "      <td>0.642225</td>\n",
       "      <td>0.198513</td>\n",
       "      <td>0.000000</td>\n",
       "    </tr>\n",
       "  </tbody>\n",
       "</table>\n",
       "<p>286370 rows × 8 columns</p>\n",
       "</div>"
      ],
      "text/plain": [
       "            Time      AccV     AccML     AccAP                 Id  \\\n",
       "0       0.000000 -9.531250  0.566406 -1.413086       003f117e14_0   \n",
       "1       0.000214 -9.539062  0.563965 -1.440430       003f117e14_1   \n",
       "2       0.000427 -9.531250  0.561523 -1.429688       003f117e14_2   \n",
       "3       0.000641 -9.531250  0.564453 -1.415039       003f117e14_3   \n",
       "4       0.000854 -9.539062  0.562012 -1.429688       003f117e14_4   \n",
       "...          ...       ...       ...       ...                ...   \n",
       "286365  1.000000 -0.899414 -0.232666  0.389160  02ab235146_281683   \n",
       "286366  1.000000 -0.901855 -0.233032  0.390137  02ab235146_281684   \n",
       "286367  1.000000 -0.901855 -0.231934  0.391846  02ab235146_281685   \n",
       "286368  1.000000 -0.899414 -0.232422  0.391113  02ab235146_281686   \n",
       "286369  1.000000 -0.900391 -0.232422  0.390625  02ab235146_281687   \n",
       "\n",
       "        StartHesitation      Turn   Walking  \n",
       "0              0.112075  0.005730  0.021867  \n",
       "1              0.112075  0.005730  0.021867  \n",
       "2              0.112075  0.005730  0.021867  \n",
       "3              0.112075  0.005730  0.021867  \n",
       "4              0.112075  0.005730  0.021867  \n",
       "...                 ...       ...       ...  \n",
       "286365         0.642225  0.198513  0.000000  \n",
       "286366         0.642225  0.198513  0.000000  \n",
       "286367         0.642225  0.198513  0.000000  \n",
       "286368         0.642225  0.198513  0.000000  \n",
       "286369         0.642225  0.198513  0.000000  \n",
       "\n",
       "[286370 rows x 8 columns]"
      ]
     },
     "execution_count": 50,
     "metadata": {},
     "output_type": "execute_result"
    }
   ],
   "source": [
    "# Separate the dataset for the independent variables.\n",
    "test_X = test.iloc[:, 0:4]\n",
    "\n",
    "# Standardize the independent variables by a new scaler.\n",
    "scaler = StandardScaler()\n",
    "test_X = scaler.fit_transform(test_X)\n",
    "\n",
    "# Get the predictions for the three models on the test data.\n",
    "pred_y1 = model1.predict(test_X)\n",
    "pred_y2 = model2.predict(test_X)\n",
    "pred_y3 = model3.predict(test_X)\n",
    "\n",
    "test['StartHesitation'] = pred_y1 # target variable for StartHesitation\n",
    "test['Turn'] = pred_y2 # target variable for Turn\n",
    "test['Walking'] = pred_y3 # target variable for Walking\n",
    "\n",
    "test"
   ]
  },
  {
   "cell_type": "markdown",
   "id": "21fe1142",
   "metadata": {
    "papermill": {
     "duration": 0.036699,
     "end_time": "2023-05-22T13:51:09.837375",
     "exception": false,
     "start_time": "2023-05-22T13:51:09.800676",
     "status": "completed"
    },
    "tags": []
   },
   "source": [
    "# Submission"
   ]
  },
  {
   "cell_type": "code",
   "execution_count": 51,
   "id": "b949a6ea",
   "metadata": {
    "execution": {
     "iopub.execute_input": "2023-05-22T13:51:09.915849Z",
     "iopub.status.busy": "2023-05-22T13:51:09.914494Z",
     "iopub.status.idle": "2023-05-22T13:51:10.058873Z",
     "shell.execute_reply": "2023-05-22T13:51:10.057418Z"
    },
    "papermill": {
     "duration": 0.186995,
     "end_time": "2023-05-22T13:51:10.061502",
     "exception": false,
     "start_time": "2023-05-22T13:51:09.874507",
     "status": "completed"
    },
    "tags": []
   },
   "outputs": [
    {
     "data": {
      "text/html": [
       "<div>\n",
       "<style scoped>\n",
       "    .dataframe tbody tr th:only-of-type {\n",
       "        vertical-align: middle;\n",
       "    }\n",
       "\n",
       "    .dataframe tbody tr th {\n",
       "        vertical-align: top;\n",
       "    }\n",
       "\n",
       "    .dataframe thead th {\n",
       "        text-align: right;\n",
       "    }\n",
       "</style>\n",
       "<table border=\"1\" class=\"dataframe\">\n",
       "  <thead>\n",
       "    <tr style=\"text-align: right;\">\n",
       "      <th></th>\n",
       "      <th>Id</th>\n",
       "      <th>StartHesitation</th>\n",
       "      <th>Turn</th>\n",
       "      <th>Walking</th>\n",
       "    </tr>\n",
       "  </thead>\n",
       "  <tbody>\n",
       "    <tr>\n",
       "      <th>0</th>\n",
       "      <td>003f117e14_0</td>\n",
       "      <td>0.112075</td>\n",
       "      <td>0.005730</td>\n",
       "      <td>0.021867</td>\n",
       "    </tr>\n",
       "    <tr>\n",
       "      <th>1</th>\n",
       "      <td>003f117e14_1</td>\n",
       "      <td>0.112075</td>\n",
       "      <td>0.005730</td>\n",
       "      <td>0.021867</td>\n",
       "    </tr>\n",
       "    <tr>\n",
       "      <th>2</th>\n",
       "      <td>003f117e14_2</td>\n",
       "      <td>0.112075</td>\n",
       "      <td>0.005730</td>\n",
       "      <td>0.021867</td>\n",
       "    </tr>\n",
       "    <tr>\n",
       "      <th>3</th>\n",
       "      <td>003f117e14_3</td>\n",
       "      <td>0.112075</td>\n",
       "      <td>0.005730</td>\n",
       "      <td>0.021867</td>\n",
       "    </tr>\n",
       "    <tr>\n",
       "      <th>4</th>\n",
       "      <td>003f117e14_4</td>\n",
       "      <td>0.112075</td>\n",
       "      <td>0.005730</td>\n",
       "      <td>0.021867</td>\n",
       "    </tr>\n",
       "    <tr>\n",
       "      <th>...</th>\n",
       "      <td>...</td>\n",
       "      <td>...</td>\n",
       "      <td>...</td>\n",
       "      <td>...</td>\n",
       "    </tr>\n",
       "    <tr>\n",
       "      <th>286365</th>\n",
       "      <td>02ab235146_281683</td>\n",
       "      <td>0.642225</td>\n",
       "      <td>0.198513</td>\n",
       "      <td>0.000000</td>\n",
       "    </tr>\n",
       "    <tr>\n",
       "      <th>286366</th>\n",
       "      <td>02ab235146_281684</td>\n",
       "      <td>0.642225</td>\n",
       "      <td>0.198513</td>\n",
       "      <td>0.000000</td>\n",
       "    </tr>\n",
       "    <tr>\n",
       "      <th>286367</th>\n",
       "      <td>02ab235146_281685</td>\n",
       "      <td>0.642225</td>\n",
       "      <td>0.198513</td>\n",
       "      <td>0.000000</td>\n",
       "    </tr>\n",
       "    <tr>\n",
       "      <th>286368</th>\n",
       "      <td>02ab235146_281686</td>\n",
       "      <td>0.642225</td>\n",
       "      <td>0.198513</td>\n",
       "      <td>0.000000</td>\n",
       "    </tr>\n",
       "    <tr>\n",
       "      <th>286369</th>\n",
       "      <td>02ab235146_281687</td>\n",
       "      <td>0.642225</td>\n",
       "      <td>0.198513</td>\n",
       "      <td>0.000000</td>\n",
       "    </tr>\n",
       "  </tbody>\n",
       "</table>\n",
       "<p>286370 rows × 4 columns</p>\n",
       "</div>"
      ],
      "text/plain": [
       "                       Id  StartHesitation      Turn   Walking\n",
       "0            003f117e14_0         0.112075  0.005730  0.021867\n",
       "1            003f117e14_1         0.112075  0.005730  0.021867\n",
       "2            003f117e14_2         0.112075  0.005730  0.021867\n",
       "3            003f117e14_3         0.112075  0.005730  0.021867\n",
       "4            003f117e14_4         0.112075  0.005730  0.021867\n",
       "...                   ...              ...       ...       ...\n",
       "286365  02ab235146_281683         0.642225  0.198513  0.000000\n",
       "286366  02ab235146_281684         0.642225  0.198513  0.000000\n",
       "286367  02ab235146_281685         0.642225  0.198513  0.000000\n",
       "286368  02ab235146_281686         0.642225  0.198513  0.000000\n",
       "286369  02ab235146_281687         0.642225  0.198513  0.000000\n",
       "\n",
       "[286370 rows x 4 columns]"
      ]
     },
     "execution_count": 51,
     "metadata": {},
     "output_type": "execute_result"
    }
   ],
   "source": [
    "submission = test.iloc[:, 4:].fillna(0.0)\n",
    "submission"
   ]
  },
  {
   "cell_type": "code",
   "execution_count": 52,
   "id": "4086eac2",
   "metadata": {
    "execution": {
     "iopub.execute_input": "2023-05-22T13:51:10.139504Z",
     "iopub.status.busy": "2023-05-22T13:51:10.138211Z",
     "iopub.status.idle": "2023-05-22T13:51:12.714857Z",
     "shell.execute_reply": "2023-05-22T13:51:12.713948Z"
    },
    "papermill": {
     "duration": 2.619063,
     "end_time": "2023-05-22T13:51:12.717937",
     "exception": false,
     "start_time": "2023-05-22T13:51:10.098874",
     "status": "completed"
    },
    "tags": []
   },
   "outputs": [],
   "source": [
    "submission.to_csv(\"submission.csv\", index = False)"
   ]
  },
  {
   "cell_type": "markdown",
   "id": "19092c2a",
   "metadata": {
    "papermill": {
     "duration": 0.039446,
     "end_time": "2023-05-22T13:51:12.797524",
     "exception": false,
     "start_time": "2023-05-22T13:51:12.758078",
     "status": "completed"
    },
    "tags": []
   },
   "source": [
    "# Save, Load, and Use Model\n",
    "\n",
    "To save the trained Logistic Regression model, you can use the joblib library from the sklearn.externals module. This will save the model to a file in the current working directory. **To load the saved model later**, we can use the joblib.load() function."
   ]
  },
  {
   "cell_type": "code",
   "execution_count": 53,
   "id": "06e89e39",
   "metadata": {
    "execution": {
     "iopub.execute_input": "2023-05-22T13:51:12.878588Z",
     "iopub.status.busy": "2023-05-22T13:51:12.877745Z",
     "iopub.status.idle": "2023-05-22T13:51:14.201210Z",
     "shell.execute_reply": "2023-05-22T13:51:14.200171Z"
    },
    "papermill": {
     "duration": 1.367457,
     "end_time": "2023-05-22T13:51:14.204205",
     "exception": false,
     "start_time": "2023-05-22T13:51:12.836748",
     "status": "completed"
    },
    "tags": []
   },
   "outputs": [],
   "source": [
    "import joblib\n",
    "\n",
    "# Save the model to disk.\n",
    "joblib.dump(model1, 'model1.joblib')\n",
    "joblib.dump(model2, 'model2.joblib')\n",
    "joblib.dump(model3, 'model3.joblib')\n",
    "\n",
    "# Load the saved models from disk.\n",
    "model1_loaded = joblib.load('model1.joblib')\n",
    "model2_loaded = joblib.load('model2.joblib')\n",
    "model3_loaded = joblib.load('model3.joblib')\n",
    "\n",
    "# Use the loaded models to make predictions on test data.\n",
    "y1_pred_loaded = model1_loaded.predict(test_X)\n",
    "y2_pred_loaded = model2_loaded.predict(test_X)\n",
    "y3_pred_loaded = model3_loaded.predict(test_X)"
   ]
  },
  {
   "cell_type": "markdown",
   "id": "30bd3305",
   "metadata": {
    "papermill": {
     "duration": 0.039562,
     "end_time": "2023-05-22T13:51:14.403230",
     "exception": false,
     "start_time": "2023-05-22T13:51:14.363668",
     "status": "completed"
    },
    "tags": []
   },
   "source": [
    "# Conclusion\n",
    "\n",
    "It is possible that **more features or more advanced machine learning algorithms** could improve the accuracy of the models. Additionally, it may be useful to **investigate other factors** that contribute to the occurrence of freezing of gait events, such as cognitive or environmental factors."
   ]
  },
  {
   "cell_type": "markdown",
   "id": "ad9773f2",
   "metadata": {
    "papermill": {
     "duration": 0.038307,
     "end_time": "2023-05-22T13:51:14.480889",
     "exception": false,
     "start_time": "2023-05-22T13:51:14.442582",
     "status": "completed"
    },
    "tags": []
   },
   "source": [
    "I am a medical doctor working on **artificial intelligence (AI) for medicine**. At present AI is also widely used in the medical field. Particularly, AI performs in the healthcare sector following tasks: **image classification, object detection, semantic segmentation, GANs, text classification, etc**. **If you are interested in AI for medicine, please see my other notebooks.**"
   ]
  }
 ],
 "metadata": {
  "kernelspec": {
   "display_name": "Python 3",
   "language": "python",
   "name": "python3"
  },
  "language_info": {
   "codemirror_mode": {
    "name": "ipython",
    "version": 3
   },
   "file_extension": ".py",
   "mimetype": "text/x-python",
   "name": "python",
   "nbconvert_exporter": "python",
   "pygments_lexer": "ipython3",
   "version": "3.10.10"
  },
  "papermill": {
   "default_parameters": {},
   "duration": 10110.600264,
   "end_time": "2023-05-22T13:51:17.675702",
   "environment_variables": {},
   "exception": null,
   "input_path": "__notebook__.ipynb",
   "output_path": "__notebook__.ipynb",
   "parameters": {},
   "start_time": "2023-05-22T11:02:47.075438",
   "version": "2.4.0"
  }
 },
 "nbformat": 4,
 "nbformat_minor": 5
}
